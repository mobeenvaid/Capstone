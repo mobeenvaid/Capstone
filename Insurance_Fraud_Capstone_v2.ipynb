{
 "cells": [
  {
   "cell_type": "markdown",
   "id": "29b36d7f",
   "metadata": {},
   "source": [
    "# Introduction #"
   ]
  },
  {
   "cell_type": "markdown",
   "id": "c256fcea",
   "metadata": {},
   "source": [
    "Insurance fraud occurs when “someone knowingly lies to obtain a benefit or advantage to which they are not otherwise entitled or someone knowingly denies a benefit that is due and to which someone is entitled.” The Coalition Against Insurance Fraud (CAIF) estimates that the annual losses due insurance fraud in America are $308 billion dollars, costs that are often borne not only by insurance companies, but higher premiums for insurance holders. Accordingly, insurance companies, government regulators, and others invest substantial resources annually in mitigating and identifying fraudulent claims.\n",
    "\n",
    "\n",
    "Accordingly, in this project we will explore a health insurance fraud dataset and review potential factors that may determine when a subsequent claim will in fact be fraudulent. This section will begin the process with initial imports and preprocessing"
   ]
  },
  {
   "cell_type": "markdown",
   "id": "da46eb2b",
   "metadata": {},
   "source": [
    "# Data Preprocessing"
   ]
  },
  {
   "cell_type": "code",
   "execution_count": 1,
   "id": "8f5316b6",
   "metadata": {},
   "outputs": [],
   "source": [
    "#import libraries\n",
    "import pandas as pd\n",
    "import numpy as np\n",
    "import matplotlib.pyplot as plt\n",
    "import seaborn as sns\n",
    "import plotly.express as px"
   ]
  },
  {
   "cell_type": "code",
   "execution_count": 2,
   "id": "17dccd86",
   "metadata": {},
   "outputs": [],
   "source": [
    "#read in fraud claims csv file\n",
    "df = pd.read_csv('C://Users//mobee//Documents//Capstone_Project//fraud_data.csv')"
   ]
  },
  {
   "cell_type": "code",
   "execution_count": 3,
   "id": "67db3ae8",
   "metadata": {},
   "outputs": [
    {
     "data": {
      "text/html": [
       "<div>\n",
       "<style scoped>\n",
       "    .dataframe tbody tr th:only-of-type {\n",
       "        vertical-align: middle;\n",
       "    }\n",
       "\n",
       "    .dataframe tbody tr th {\n",
       "        vertical-align: top;\n",
       "    }\n",
       "\n",
       "    .dataframe thead th {\n",
       "        text-align: right;\n",
       "    }\n",
       "</style>\n",
       "<table border=\"1\" class=\"dataframe\">\n",
       "  <thead>\n",
       "    <tr style=\"text-align: right;\">\n",
       "      <th></th>\n",
       "      <th>Age</th>\n",
       "      <th>Gender</th>\n",
       "      <th>Insurance_Type</th>\n",
       "      <th>Claim_Amount</th>\n",
       "      <th>Diagnosis_Code</th>\n",
       "      <th>Treatment_Code</th>\n",
       "      <th>Hospital_Code</th>\n",
       "      <th>Doctor_Fee</th>\n",
       "      <th>Policy_Type</th>\n",
       "      <th>Fraudulent_Claim</th>\n",
       "    </tr>\n",
       "  </thead>\n",
       "  <tbody>\n",
       "    <tr>\n",
       "      <th>0</th>\n",
       "      <td>62</td>\n",
       "      <td>Female</td>\n",
       "      <td>Health</td>\n",
       "      <td>15216.58254</td>\n",
       "      <td>131</td>\n",
       "      <td>5733</td>\n",
       "      <td>77</td>\n",
       "      <td>646.464587</td>\n",
       "      <td>Basic</td>\n",
       "      <td>0</td>\n",
       "    </tr>\n",
       "    <tr>\n",
       "      <th>1</th>\n",
       "      <td>65</td>\n",
       "      <td>Female</td>\n",
       "      <td>Auto</td>\n",
       "      <td>10000.01000</td>\n",
       "      <td>505</td>\n",
       "      <td>5725</td>\n",
       "      <td>22</td>\n",
       "      <td>976.754644</td>\n",
       "      <td>Basic</td>\n",
       "      <td>0</td>\n",
       "    </tr>\n",
       "    <tr>\n",
       "      <th>2</th>\n",
       "      <td>71</td>\n",
       "      <td>Female</td>\n",
       "      <td>Home</td>\n",
       "      <td>14838.51176</td>\n",
       "      <td>907</td>\n",
       "      <td>8067</td>\n",
       "      <td>54</td>\n",
       "      <td>216.533344</td>\n",
       "      <td>Premium</td>\n",
       "      <td>0</td>\n",
       "    </tr>\n",
       "    <tr>\n",
       "      <th>3</th>\n",
       "      <td>18</td>\n",
       "      <td>Male</td>\n",
       "      <td>Health</td>\n",
       "      <td>10922.98198</td>\n",
       "      <td>256</td>\n",
       "      <td>9255</td>\n",
       "      <td>28</td>\n",
       "      <td>451.173165</td>\n",
       "      <td>Basic</td>\n",
       "      <td>0</td>\n",
       "    </tr>\n",
       "    <tr>\n",
       "      <th>4</th>\n",
       "      <td>21</td>\n",
       "      <td>Male</td>\n",
       "      <td>Health</td>\n",
       "      <td>15372.06416</td>\n",
       "      <td>539</td>\n",
       "      <td>2130</td>\n",
       "      <td>29</td>\n",
       "      <td>288.030168</td>\n",
       "      <td>Basic</td>\n",
       "      <td>0</td>\n",
       "    </tr>\n",
       "  </tbody>\n",
       "</table>\n",
       "</div>"
      ],
      "text/plain": [
       "   Age  Gender Insurance_Type  Claim_Amount  Diagnosis_Code  Treatment_Code  \\\n",
       "0   62  Female         Health   15216.58254             131            5733   \n",
       "1   65  Female           Auto   10000.01000             505            5725   \n",
       "2   71  Female           Home   14838.51176             907            8067   \n",
       "3   18    Male         Health   10922.98198             256            9255   \n",
       "4   21    Male         Health   15372.06416             539            2130   \n",
       "\n",
       "   Hospital_Code  Doctor_Fee Policy_Type  Fraudulent_Claim  \n",
       "0             77  646.464587       Basic                 0  \n",
       "1             22  976.754644       Basic                 0  \n",
       "2             54  216.533344     Premium                 0  \n",
       "3             28  451.173165       Basic                 0  \n",
       "4             29  288.030168       Basic                 0  "
      ]
     },
     "execution_count": 3,
     "metadata": {},
     "output_type": "execute_result"
    }
   ],
   "source": [
    "df.head()"
   ]
  },
  {
   "cell_type": "code",
   "execution_count": 4,
   "id": "309e2be4",
   "metadata": {},
   "outputs": [
    {
     "data": {
      "text/html": [
       "<div>\n",
       "<style scoped>\n",
       "    .dataframe tbody tr th:only-of-type {\n",
       "        vertical-align: middle;\n",
       "    }\n",
       "\n",
       "    .dataframe tbody tr th {\n",
       "        vertical-align: top;\n",
       "    }\n",
       "\n",
       "    .dataframe thead th {\n",
       "        text-align: right;\n",
       "    }\n",
       "</style>\n",
       "<table border=\"1\" class=\"dataframe\">\n",
       "  <thead>\n",
       "    <tr style=\"text-align: right;\">\n",
       "      <th></th>\n",
       "      <th>Age</th>\n",
       "      <th>Claim_Amount</th>\n",
       "      <th>Diagnosis_Code</th>\n",
       "      <th>Treatment_Code</th>\n",
       "      <th>Hospital_Code</th>\n",
       "      <th>Doctor_Fee</th>\n",
       "      <th>Fraudulent_Claim</th>\n",
       "    </tr>\n",
       "  </thead>\n",
       "  <tbody>\n",
       "    <tr>\n",
       "      <th>count</th>\n",
       "      <td>10000.000000</td>\n",
       "      <td>10000.000000</td>\n",
       "      <td>10000.000000</td>\n",
       "      <td>10000.000000</td>\n",
       "      <td>10000.000000</td>\n",
       "      <td>10000.000000</td>\n",
       "      <td>10000.000000</td>\n",
       "    </tr>\n",
       "    <tr>\n",
       "      <th>mean</th>\n",
       "      <td>48.474300</td>\n",
       "      <td>15552.516019</td>\n",
       "      <td>549.010500</td>\n",
       "      <td>5514.909000</td>\n",
       "      <td>50.065900</td>\n",
       "      <td>502.942220</td>\n",
       "      <td>0.050000</td>\n",
       "    </tr>\n",
       "    <tr>\n",
       "      <th>std</th>\n",
       "      <td>17.894948</td>\n",
       "      <td>4320.615526</td>\n",
       "      <td>260.200451</td>\n",
       "      <td>2581.418015</td>\n",
       "      <td>28.737772</td>\n",
       "      <td>195.883403</td>\n",
       "      <td>0.217956</td>\n",
       "    </tr>\n",
       "    <tr>\n",
       "      <th>min</th>\n",
       "      <td>18.000000</td>\n",
       "      <td>10000.010000</td>\n",
       "      <td>100.000000</td>\n",
       "      <td>1000.000000</td>\n",
       "      <td>1.000000</td>\n",
       "      <td>100.000000</td>\n",
       "      <td>0.000000</td>\n",
       "    </tr>\n",
       "    <tr>\n",
       "      <th>25%</th>\n",
       "      <td>33.000000</td>\n",
       "      <td>11802.364330</td>\n",
       "      <td>322.000000</td>\n",
       "      <td>3303.750000</td>\n",
       "      <td>25.000000</td>\n",
       "      <td>364.922353</td>\n",
       "      <td>0.000000</td>\n",
       "    </tr>\n",
       "    <tr>\n",
       "      <th>50%</th>\n",
       "      <td>49.000000</td>\n",
       "      <td>15134.045560</td>\n",
       "      <td>549.000000</td>\n",
       "      <td>5529.000000</td>\n",
       "      <td>50.000000</td>\n",
       "      <td>500.420514</td>\n",
       "      <td>0.000000</td>\n",
       "    </tr>\n",
       "    <tr>\n",
       "      <th>75%</th>\n",
       "      <td>64.000000</td>\n",
       "      <td>18469.750642</td>\n",
       "      <td>776.000000</td>\n",
       "      <td>7760.000000</td>\n",
       "      <td>75.000000</td>\n",
       "      <td>636.865057</td>\n",
       "      <td>0.000000</td>\n",
       "    </tr>\n",
       "    <tr>\n",
       "      <th>max</th>\n",
       "      <td>79.000000</td>\n",
       "      <td>35363.897860</td>\n",
       "      <td>999.000000</td>\n",
       "      <td>9998.000000</td>\n",
       "      <td>99.000000</td>\n",
       "      <td>1270.404034</td>\n",
       "      <td>1.000000</td>\n",
       "    </tr>\n",
       "  </tbody>\n",
       "</table>\n",
       "</div>"
      ],
      "text/plain": [
       "                Age  Claim_Amount  Diagnosis_Code  Treatment_Code  \\\n",
       "count  10000.000000  10000.000000    10000.000000    10000.000000   \n",
       "mean      48.474300  15552.516019      549.010500     5514.909000   \n",
       "std       17.894948   4320.615526      260.200451     2581.418015   \n",
       "min       18.000000  10000.010000      100.000000     1000.000000   \n",
       "25%       33.000000  11802.364330      322.000000     3303.750000   \n",
       "50%       49.000000  15134.045560      549.000000     5529.000000   \n",
       "75%       64.000000  18469.750642      776.000000     7760.000000   \n",
       "max       79.000000  35363.897860      999.000000     9998.000000   \n",
       "\n",
       "       Hospital_Code    Doctor_Fee  Fraudulent_Claim  \n",
       "count   10000.000000  10000.000000      10000.000000  \n",
       "mean       50.065900    502.942220          0.050000  \n",
       "std        28.737772    195.883403          0.217956  \n",
       "min         1.000000    100.000000          0.000000  \n",
       "25%        25.000000    364.922353          0.000000  \n",
       "50%        50.000000    500.420514          0.000000  \n",
       "75%        75.000000    636.865057          0.000000  \n",
       "max        99.000000   1270.404034          1.000000  "
      ]
     },
     "execution_count": 4,
     "metadata": {},
     "output_type": "execute_result"
    }
   ],
   "source": [
    "df.describe()"
   ]
  },
  {
   "cell_type": "code",
   "execution_count": 5,
   "id": "00cc78d7",
   "metadata": {},
   "outputs": [
    {
     "name": "stdout",
     "output_type": "stream",
     "text": [
      "<class 'pandas.core.frame.DataFrame'>\n",
      "RangeIndex: 10000 entries, 0 to 9999\n",
      "Data columns (total 10 columns):\n",
      " #   Column            Non-Null Count  Dtype  \n",
      "---  ------            --------------  -----  \n",
      " 0   Age               10000 non-null  int64  \n",
      " 1   Gender            10000 non-null  object \n",
      " 2   Insurance_Type    10000 non-null  object \n",
      " 3   Claim_Amount      10000 non-null  float64\n",
      " 4   Diagnosis_Code    10000 non-null  int64  \n",
      " 5   Treatment_Code    10000 non-null  int64  \n",
      " 6   Hospital_Code     10000 non-null  int64  \n",
      " 7   Doctor_Fee        10000 non-null  float64\n",
      " 8   Policy_Type       10000 non-null  object \n",
      " 9   Fraudulent_Claim  10000 non-null  int64  \n",
      "dtypes: float64(2), int64(5), object(3)\n",
      "memory usage: 781.4+ KB\n"
     ]
    }
   ],
   "source": [
    "df.info()"
   ]
  },
  {
   "cell_type": "code",
   "execution_count": 6,
   "id": "19d8db96",
   "metadata": {},
   "outputs": [
    {
     "data": {
      "text/plain": [
       "Age                 0\n",
       "Gender              0\n",
       "Insurance_Type      0\n",
       "Claim_Amount        0\n",
       "Diagnosis_Code      0\n",
       "Treatment_Code      0\n",
       "Hospital_Code       0\n",
       "Doctor_Fee          0\n",
       "Policy_Type         0\n",
       "Fraudulent_Claim    0\n",
       "dtype: int64"
      ]
     },
     "execution_count": 6,
     "metadata": {},
     "output_type": "execute_result"
    }
   ],
   "source": [
    "#null values\n",
    "df.isna().sum()"
   ]
  },
  {
   "cell_type": "markdown",
   "id": "9bb9f42a",
   "metadata": {},
   "source": [
    "As we can see, the data is clean. No null values."
   ]
  },
  {
   "cell_type": "code",
   "execution_count": 7,
   "id": "44f5bc0f",
   "metadata": {},
   "outputs": [
    {
     "name": "stderr",
     "output_type": "stream",
     "text": [
      "C:\\Users\\mobee\\AppData\\Local\\Temp\\ipykernel_7808\\250781362.py:5: FutureWarning: The default value of numeric_only in DataFrame.corr is deprecated. In a future version, it will default to False. Select only valid columns or specify the value of numeric_only to silence this warning.\n",
      "  corr = df.corr()\n"
     ]
    },
    {
     "data": {
      "image/png": "[encoded data removed]",
      "text/plain": [
       "<Figure size 800x600 with 2 Axes>"
      ]
     },
     "metadata": {},
     "output_type": "display_data"
    }
   ],
   "source": [
    "# heatmap\n",
    "\n",
    "plt.figure(figsize = (8, 6))\n",
    "\n",
    "corr = df.corr()\n",
    "\n",
    "sns.heatmap(data = corr, annot = True, fmt = '.2g', linewidth = 1)\n",
    "plt.show()"
   ]
  },
  {
   "cell_type": "markdown",
   "id": "e574323c",
   "metadata": {},
   "source": [
    "We are not seeing a high degree of correlation between any of the fields"
   ]
  },
  {
   "cell_type": "code",
   "execution_count": 8,
   "id": "2dbed413",
   "metadata": {},
   "outputs": [
    {
     "name": "stdout",
     "output_type": "stream",
     "text": [
      "Auto      3347\n",
      "Health    3341\n",
      "Home      3312\n",
      "Name: Insurance_Type, dtype: int64\n"
     ]
    }
   ],
   "source": [
    "# Get the breakdown of values in the 'Insurance_Type' column\n",
    "breakdown = df['Insurance_Type'].value_counts()\n",
    "\n",
    "print(breakdown)"
   ]
  },
  {
   "cell_type": "code",
   "execution_count": 9,
   "id": "3f7600de",
   "metadata": {},
   "outputs": [
    {
     "name": "stdout",
     "output_type": "stream",
     "text": [
      "Standard    3361\n",
      "Basic       3320\n",
      "Premium     3319\n",
      "Name: Policy_Type, dtype: int64\n"
     ]
    }
   ],
   "source": [
    "# Get the breakdown of values in the 'Policy_Type' column\n",
    "breakdown = df['Policy_Type'].value_counts()\n",
    "\n",
    "print(breakdown)"
   ]
  },
  {
   "cell_type": "code",
   "execution_count": 10,
   "id": "bb453228",
   "metadata": {},
   "outputs": [
    {
     "name": "stdout",
     "output_type": "stream",
     "text": [
      "    Age  Gender Insurance_Type  Claim_Amount  Diagnosis_Code  Treatment_Code  \\\n",
      "2    71  Female           Home   14838.51176             907            8067   \n",
      "8    27    Male           Home   14169.73572             730            6182   \n",
      "10   39    Male           Home   13184.27196             915            6175   \n",
      "13   41    Male           Home   13464.40947             317            1647   \n",
      "17   30    Male           Home   21011.09841             951            1639   \n",
      "\n",
      "    Hospital_Code  Doctor_Fee Policy_Type  Fraudulent_Claim  \n",
      "2              54  216.533344     Premium                 0  \n",
      "8              51  236.213472     Premium                 0  \n",
      "10             89  728.157416    Standard                 0  \n",
      "13             66  703.722939     Premium                 0  \n",
      "17             40  762.030358     Premium                 0  \n"
     ]
    }
   ],
   "source": [
    "# Filter the DataFrame to show only rows where Insurance_Type is Home\n",
    "home_df = df[df['Insurance_Type'] == 'Home']\n",
    "print(home_df.head())"
   ]
  },
  {
   "cell_type": "markdown",
   "id": "fa310ea3",
   "metadata": {},
   "source": [
    "**Analyze data for any oddities**"
   ]
  },
  {
   "cell_type": "code",
   "execution_count": 11,
   "id": "9e1143ba",
   "metadata": {},
   "outputs": [
    {
     "name": "stderr",
     "output_type": "stream",
     "text": [
      "C:\\Users\\mobee\\AppData\\Local\\Temp\\ipykernel_7808\\1280550592.py:10: UserWarning: \n",
      "\n",
      "`distplot` is a deprecated function and will be removed in seaborn v0.14.0.\n",
      "\n",
      "Please adapt your code to use either `displot` (a figure-level function with\n",
      "similar flexibility) or `histplot` (an axes-level function for histograms).\n",
      "\n",
      "For a guide to updating your code to use the new functions, please see\n",
      "https://gist.github.com/mwaskom/de44147ed2974457ad6372750bbe5751\n",
      "\n",
      "  sns.distplot(subset[col], kde=True)\n",
      "C:\\Users\\mobee\\AppData\\Local\\Temp\\ipykernel_7808\\1280550592.py:10: UserWarning: \n",
      "\n",
      "`distplot` is a deprecated function and will be removed in seaborn v0.14.0.\n",
      "\n",
      "Please adapt your code to use either `displot` (a figure-level function with\n",
      "similar flexibility) or `histplot` (an axes-level function for histograms).\n",
      "\n",
      "For a guide to updating your code to use the new functions, please see\n",
      "https://gist.github.com/mwaskom/de44147ed2974457ad6372750bbe5751\n",
      "\n",
      "  sns.distplot(subset[col], kde=True)\n",
      "C:\\Users\\mobee\\AppData\\Local\\Temp\\ipykernel_7808\\1280550592.py:10: UserWarning: \n",
      "\n",
      "`distplot` is a deprecated function and will be removed in seaborn v0.14.0.\n",
      "\n",
      "Please adapt your code to use either `displot` (a figure-level function with\n",
      "similar flexibility) or `histplot` (an axes-level function for histograms).\n",
      "\n",
      "For a guide to updating your code to use the new functions, please see\n",
      "https://gist.github.com/mwaskom/de44147ed2974457ad6372750bbe5751\n",
      "\n",
      "  sns.distplot(subset[col], kde=True)\n",
      "C:\\Users\\mobee\\AppData\\Local\\Temp\\ipykernel_7808\\1280550592.py:10: UserWarning: \n",
      "\n",
      "`distplot` is a deprecated function and will be removed in seaborn v0.14.0.\n",
      "\n",
      "Please adapt your code to use either `displot` (a figure-level function with\n",
      "similar flexibility) or `histplot` (an axes-level function for histograms).\n",
      "\n",
      "For a guide to updating your code to use the new functions, please see\n",
      "https://gist.github.com/mwaskom/de44147ed2974457ad6372750bbe5751\n",
      "\n",
      "  sns.distplot(subset[col], kde=True)\n",
      "C:\\Users\\mobee\\AppData\\Local\\Temp\\ipykernel_7808\\1280550592.py:10: UserWarning: \n",
      "\n",
      "`distplot` is a deprecated function and will be removed in seaborn v0.14.0.\n",
      "\n",
      "Please adapt your code to use either `displot` (a figure-level function with\n",
      "similar flexibility) or `histplot` (an axes-level function for histograms).\n",
      "\n",
      "For a guide to updating your code to use the new functions, please see\n",
      "https://gist.github.com/mwaskom/de44147ed2974457ad6372750bbe5751\n",
      "\n",
      "  sns.distplot(subset[col], kde=True)\n"
     ]
    },
    {
     "data": {
      "image/png": "[encoded data removed]",
      "text/plain": [
       "<Figure size 2500x2000 with 5 Axes>"
      ]
     },
     "metadata": {},
     "output_type": "display_data"
    }
   ],
   "source": [
    "#subset numericals\n",
    "subset = df[['Age','Claim_Amount','Diagnosis_Code','Treatment_Code','Doctor_Fee']]\n",
    "#plot\n",
    "plt.figure(figsize=(25, 20))\n",
    "plotnumber = 1\n",
    "\n",
    "for col in subset.columns:\n",
    "    if plotnumber <= 24:\n",
    "        ax = plt.subplot(5, 5, plotnumber)\n",
    "        sns.distplot(subset[col], kde=True)\n",
    "        plt.xlabel(col, fontsize=15)\n",
    "        \n",
    "    plotnumber += 1\n",
    "    \n",
    "plt.tight_layout()\n",
    "plt.show()"
   ]
  },
  {
   "cell_type": "markdown",
   "id": "3677981e",
   "metadata": {},
   "source": [
    "We are seeing many claims in the amount of $10,000. Need to double check and ensure those are real. Let us see a count of them."
   ]
  },
  {
   "cell_type": "code",
   "execution_count": 12,
   "id": "727acac1",
   "metadata": {},
   "outputs": [
    {
     "name": "stdout",
     "output_type": "stream",
     "text": [
      "Number of rows with Claim_Amounts equal to 10000: 1007\n"
     ]
    }
   ],
   "source": [
    "# Count rows with Claim_Amount = 10000\n",
    "claim_amount_10000_count = df[df['Claim_Amount'] == 10000.01000].shape[0]\n",
    "\n",
    "print(f\"Number of rows with Claim_Amounts equal to 10000: {claim_amount_10000_count}\")"
   ]
  },
  {
   "cell_type": "markdown",
   "id": "3d70bba0",
   "metadata": {},
   "source": [
    "For a dataset with 10000 values to have over a thousand with the *exact same* claim amount is suspicious and unlikely. Chances are this value was added as a placeholder or as an equivalent to \"null.\" We will therefore be replacing these 10000 with the average for the column."
   ]
  },
  {
   "cell_type": "code",
   "execution_count": 13,
   "id": "0747dac9",
   "metadata": {
    "scrolled": true
   },
   "outputs": [
    {
     "name": "stdout",
     "output_type": "stream",
     "text": [
      "      Age  Gender Insurance_Type  Claim_Amount  Diagnosis_Code  \\\n",
      "1      65  Female           Auto      10000.01             505   \n",
      "12     54  Female         Health      10000.01             255   \n",
      "32     69    Male           Auto      10000.01             988   \n",
      "39     36  Female           Home      10000.01             923   \n",
      "43     69  Female           Home      10000.01             394   \n",
      "...   ...     ...            ...           ...             ...   \n",
      "9919   28    Male           Auto      10000.01             677   \n",
      "9925   71  Female           Home      10000.01             368   \n",
      "9932   47  Female         Health      10000.01             568   \n",
      "9942   71  Female         Health      10000.01             426   \n",
      "9993   66  Female           Home      10000.01             601   \n",
      "\n",
      "      Treatment_Code  Hospital_Code  Doctor_Fee Policy_Type  Fraudulent_Claim  \n",
      "1               5725             22  976.754644       Basic                 0  \n",
      "12              8815             71  555.149476       Basic                 0  \n",
      "32              5182             33  492.947632       Basic                 0  \n",
      "39              4918             36  522.416059     Premium                 0  \n",
      "43              8203             33  176.132201       Basic                 0  \n",
      "...              ...            ...         ...         ...               ...  \n",
      "9919            2946             94  614.730101    Standard                 0  \n",
      "9925            4057             55  400.117670    Standard                 0  \n",
      "9932            9773             44  762.903648    Standard                 0  \n",
      "9942            1645             61  477.594510     Premium                 1  \n",
      "9993            9221             66  596.186762       Basic                 0  \n",
      "\n",
      "[1007 rows x 10 columns]\n"
     ]
    }
   ],
   "source": [
    "# Filter the DataFrame to show only rows where Claim_Amount is 10000\n",
    "tenkclaims_df = df[df['Claim_Amount'] == 10000.01000]\n",
    "print(tenkclaims_df)"
   ]
  },
  {
   "cell_type": "code",
   "execution_count": 14,
   "id": "edeaa367",
   "metadata": {},
   "outputs": [
    {
     "name": "stdout",
     "output_type": "stream",
     "text": [
      "Auto      340\n",
      "Health    334\n",
      "Home      333\n",
      "Name: Insurance_Type, dtype: int64\n"
     ]
    }
   ],
   "source": [
    "breakdown_tenk = tenkclaims_df['Insurance_Type'].value_counts()\n",
    "\n",
    "print(breakdown_tenk)"
   ]
  },
  {
   "cell_type": "markdown",
   "id": "e29d4ddf",
   "metadata": {},
   "source": [
    "I wanted to verify that these values were not all tied to a specific insurance type. I have verified that the 10000 values are distributed across all three. Let us now proceed with replacing the 10000 with the average value for the column"
   ]
  },
  {
   "cell_type": "code",
   "execution_count": 15,
   "id": "fc2d5d4b",
   "metadata": {},
   "outputs": [
    {
     "name": "stdout",
     "output_type": "stream",
     "text": [
      "15552.51601922\n"
     ]
    }
   ],
   "source": [
    "# Calculating the average value of the Claim_Amounts column\n",
    "average_claim_amount = df['Claim_Amount'].mean()\n",
    "print(average_claim_amount)"
   ]
  },
  {
   "cell_type": "code",
   "execution_count": 16,
   "id": "859a88c3",
   "metadata": {},
   "outputs": [],
   "source": [
    "# Replace instances of 10000 with the average value\n",
    "df.loc[df['Claim_Amount'] == 10000.01000, 'Claim_Amount'] = average_claim_amount"
   ]
  },
  {
   "cell_type": "code",
   "execution_count": 17,
   "id": "9b20ff29",
   "metadata": {},
   "outputs": [
    {
     "data": {
      "text/html": [
       "<div>\n",
       "<style scoped>\n",
       "    .dataframe tbody tr th:only-of-type {\n",
       "        vertical-align: middle;\n",
       "    }\n",
       "\n",
       "    .dataframe tbody tr th {\n",
       "        vertical-align: top;\n",
       "    }\n",
       "\n",
       "    .dataframe thead th {\n",
       "        text-align: right;\n",
       "    }\n",
       "</style>\n",
       "<table border=\"1\" class=\"dataframe\">\n",
       "  <thead>\n",
       "    <tr style=\"text-align: right;\">\n",
       "      <th></th>\n",
       "      <th>Age</th>\n",
       "      <th>Gender</th>\n",
       "      <th>Insurance_Type</th>\n",
       "      <th>Claim_Amount</th>\n",
       "      <th>Diagnosis_Code</th>\n",
       "      <th>Treatment_Code</th>\n",
       "      <th>Hospital_Code</th>\n",
       "      <th>Doctor_Fee</th>\n",
       "      <th>Policy_Type</th>\n",
       "      <th>Fraudulent_Claim</th>\n",
       "    </tr>\n",
       "  </thead>\n",
       "  <tbody>\n",
       "    <tr>\n",
       "      <th>0</th>\n",
       "      <td>62</td>\n",
       "      <td>Female</td>\n",
       "      <td>Health</td>\n",
       "      <td>15216.582540</td>\n",
       "      <td>131</td>\n",
       "      <td>5733</td>\n",
       "      <td>77</td>\n",
       "      <td>646.464587</td>\n",
       "      <td>Basic</td>\n",
       "      <td>0</td>\n",
       "    </tr>\n",
       "    <tr>\n",
       "      <th>1</th>\n",
       "      <td>65</td>\n",
       "      <td>Female</td>\n",
       "      <td>Auto</td>\n",
       "      <td>15552.516019</td>\n",
       "      <td>505</td>\n",
       "      <td>5725</td>\n",
       "      <td>22</td>\n",
       "      <td>976.754644</td>\n",
       "      <td>Basic</td>\n",
       "      <td>0</td>\n",
       "    </tr>\n",
       "    <tr>\n",
       "      <th>2</th>\n",
       "      <td>71</td>\n",
       "      <td>Female</td>\n",
       "      <td>Home</td>\n",
       "      <td>14838.511760</td>\n",
       "      <td>907</td>\n",
       "      <td>8067</td>\n",
       "      <td>54</td>\n",
       "      <td>216.533344</td>\n",
       "      <td>Premium</td>\n",
       "      <td>0</td>\n",
       "    </tr>\n",
       "    <tr>\n",
       "      <th>3</th>\n",
       "      <td>18</td>\n",
       "      <td>Male</td>\n",
       "      <td>Health</td>\n",
       "      <td>10922.981980</td>\n",
       "      <td>256</td>\n",
       "      <td>9255</td>\n",
       "      <td>28</td>\n",
       "      <td>451.173165</td>\n",
       "      <td>Basic</td>\n",
       "      <td>0</td>\n",
       "    </tr>\n",
       "    <tr>\n",
       "      <th>4</th>\n",
       "      <td>21</td>\n",
       "      <td>Male</td>\n",
       "      <td>Health</td>\n",
       "      <td>15372.064160</td>\n",
       "      <td>539</td>\n",
       "      <td>2130</td>\n",
       "      <td>29</td>\n",
       "      <td>288.030168</td>\n",
       "      <td>Basic</td>\n",
       "      <td>0</td>\n",
       "    </tr>\n",
       "  </tbody>\n",
       "</table>\n",
       "</div>"
      ],
      "text/plain": [
       "   Age  Gender Insurance_Type  Claim_Amount  Diagnosis_Code  Treatment_Code  \\\n",
       "0   62  Female         Health  15216.582540             131            5733   \n",
       "1   65  Female           Auto  15552.516019             505            5725   \n",
       "2   71  Female           Home  14838.511760             907            8067   \n",
       "3   18    Male         Health  10922.981980             256            9255   \n",
       "4   21    Male         Health  15372.064160             539            2130   \n",
       "\n",
       "   Hospital_Code  Doctor_Fee Policy_Type  Fraudulent_Claim  \n",
       "0             77  646.464587       Basic                 0  \n",
       "1             22  976.754644       Basic                 0  \n",
       "2             54  216.533344     Premium                 0  \n",
       "3             28  451.173165       Basic                 0  \n",
       "4             29  288.030168       Basic                 0  "
      ]
     },
     "execution_count": 17,
     "metadata": {},
     "output_type": "execute_result"
    }
   ],
   "source": [
    "df.head()"
   ]
  },
  {
   "cell_type": "code",
   "execution_count": 18,
   "id": "225d2fab",
   "metadata": {},
   "outputs": [],
   "source": [
    "subset = df[['Age','Claim_Amount','Diagnosis_Code','Treatment_Code','Doctor_Fee']]"
   ]
  },
  {
   "cell_type": "code",
   "execution_count": 19,
   "id": "e9db367b",
   "metadata": {},
   "outputs": [
    {
     "name": "stderr",
     "output_type": "stream",
     "text": [
      "C:\\Users\\mobee\\AppData\\Local\\Temp\\ipykernel_7808\\2734172212.py:8: UserWarning: \n",
      "\n",
      "`distplot` is a deprecated function and will be removed in seaborn v0.14.0.\n",
      "\n",
      "Please adapt your code to use either `displot` (a figure-level function with\n",
      "similar flexibility) or `histplot` (an axes-level function for histograms).\n",
      "\n",
      "For a guide to updating your code to use the new functions, please see\n",
      "https://gist.github.com/mwaskom/de44147ed2974457ad6372750bbe5751\n",
      "\n",
      "  sns.distplot(subset[col], kde=True)\n",
      "C:\\Users\\mobee\\AppData\\Local\\Temp\\ipykernel_7808\\2734172212.py:8: UserWarning: \n",
      "\n",
      "`distplot` is a deprecated function and will be removed in seaborn v0.14.0.\n",
      "\n",
      "Please adapt your code to use either `displot` (a figure-level function with\n",
      "similar flexibility) or `histplot` (an axes-level function for histograms).\n",
      "\n",
      "For a guide to updating your code to use the new functions, please see\n",
      "https://gist.github.com/mwaskom/de44147ed2974457ad6372750bbe5751\n",
      "\n",
      "  sns.distplot(subset[col], kde=True)\n",
      "C:\\Users\\mobee\\AppData\\Local\\Temp\\ipykernel_7808\\2734172212.py:8: UserWarning: \n",
      "\n",
      "`distplot` is a deprecated function and will be removed in seaborn v0.14.0.\n",
      "\n",
      "Please adapt your code to use either `displot` (a figure-level function with\n",
      "similar flexibility) or `histplot` (an axes-level function for histograms).\n",
      "\n",
      "For a guide to updating your code to use the new functions, please see\n",
      "https://gist.github.com/mwaskom/de44147ed2974457ad6372750bbe5751\n",
      "\n",
      "  sns.distplot(subset[col], kde=True)\n",
      "C:\\Users\\mobee\\AppData\\Local\\Temp\\ipykernel_7808\\2734172212.py:8: UserWarning: \n",
      "\n",
      "`distplot` is a deprecated function and will be removed in seaborn v0.14.0.\n",
      "\n",
      "Please adapt your code to use either `displot` (a figure-level function with\n",
      "similar flexibility) or `histplot` (an axes-level function for histograms).\n",
      "\n",
      "For a guide to updating your code to use the new functions, please see\n",
      "https://gist.github.com/mwaskom/de44147ed2974457ad6372750bbe5751\n",
      "\n",
      "  sns.distplot(subset[col], kde=True)\n",
      "C:\\Users\\mobee\\AppData\\Local\\Temp\\ipykernel_7808\\2734172212.py:8: UserWarning: \n",
      "\n",
      "`distplot` is a deprecated function and will be removed in seaborn v0.14.0.\n",
      "\n",
      "Please adapt your code to use either `displot` (a figure-level function with\n",
      "similar flexibility) or `histplot` (an axes-level function for histograms).\n",
      "\n",
      "For a guide to updating your code to use the new functions, please see\n",
      "https://gist.github.com/mwaskom/de44147ed2974457ad6372750bbe5751\n",
      "\n",
      "  sns.distplot(subset[col], kde=True)\n"
     ]
    },
    {
     "data": {
      "image/png": "[encoded data removed]",
      "text/plain": [
       "<Figure size 2500x2000 with 5 Axes>"
      ]
     },
     "metadata": {},
     "output_type": "display_data"
    }
   ],
   "source": [
    "#let's plot the columns again\n",
    "plt.figure(figsize=(25, 20))\n",
    "plotnumber = 1\n",
    "\n",
    "for col in subset.columns:\n",
    "    if plotnumber <= 24:\n",
    "        ax = plt.subplot(5, 5, plotnumber)\n",
    "        sns.distplot(subset[col], kde=True)\n",
    "        plt.xlabel(col, fontsize=15)\n",
    "        \n",
    "    plotnumber += 1\n",
    "    \n",
    "plt.tight_layout()\n",
    "plt.show()"
   ]
  },
  {
   "cell_type": "code",
   "execution_count": 20,
   "id": "72acea8b",
   "metadata": {},
   "outputs": [
    {
     "name": "stdout",
     "output_type": "stream",
     "text": [
      "Number of rows with Claim_Amounts equal to mean valeu: 1007\n"
     ]
    }
   ],
   "source": [
    "claim_amount_mean_count = df[df['Claim_Amount'] == 15552.51601922].shape[0]\n",
    "\n",
    "print(f\"Number of rows with Claim_Amounts equal to mean valeu: {claim_amount_mean_count}\")"
   ]
  },
  {
   "cell_type": "markdown",
   "id": "c6f8dde2",
   "metadata": {},
   "source": [
    "**Encode Categorical Columns**"
   ]
  },
  {
   "cell_type": "code",
   "execution_count": 21,
   "id": "093117c5",
   "metadata": {},
   "outputs": [],
   "source": [
    "# Fraudulent_Claim being the column for our y to assess\n",
    "# separating feature and target columns\n",
    "\n",
    "X = df.drop('Fraudulent_Claim', axis = 1)\n",
    "y = df['Fraudulent_Claim']"
   ]
  },
  {
   "cell_type": "code",
   "execution_count": 22,
   "id": "fd407fe6",
   "metadata": {},
   "outputs": [],
   "source": [
    "#subset categorical columns\n",
    "categorical_df = X.select_dtypes(include = ['object'])"
   ]
  },
  {
   "cell_type": "code",
   "execution_count": 23,
   "id": "78a3a3cb",
   "metadata": {},
   "outputs": [
    {
     "data": {
      "text/html": [
       "<div>\n",
       "<style scoped>\n",
       "    .dataframe tbody tr th:only-of-type {\n",
       "        vertical-align: middle;\n",
       "    }\n",
       "\n",
       "    .dataframe tbody tr th {\n",
       "        vertical-align: top;\n",
       "    }\n",
       "\n",
       "    .dataframe thead th {\n",
       "        text-align: right;\n",
       "    }\n",
       "</style>\n",
       "<table border=\"1\" class=\"dataframe\">\n",
       "  <thead>\n",
       "    <tr style=\"text-align: right;\">\n",
       "      <th></th>\n",
       "      <th>Gender</th>\n",
       "      <th>Insurance_Type</th>\n",
       "      <th>Policy_Type</th>\n",
       "    </tr>\n",
       "  </thead>\n",
       "  <tbody>\n",
       "    <tr>\n",
       "      <th>0</th>\n",
       "      <td>Female</td>\n",
       "      <td>Health</td>\n",
       "      <td>Basic</td>\n",
       "    </tr>\n",
       "    <tr>\n",
       "      <th>1</th>\n",
       "      <td>Female</td>\n",
       "      <td>Auto</td>\n",
       "      <td>Basic</td>\n",
       "    </tr>\n",
       "    <tr>\n",
       "      <th>2</th>\n",
       "      <td>Female</td>\n",
       "      <td>Home</td>\n",
       "      <td>Premium</td>\n",
       "    </tr>\n",
       "    <tr>\n",
       "      <th>3</th>\n",
       "      <td>Male</td>\n",
       "      <td>Health</td>\n",
       "      <td>Basic</td>\n",
       "    </tr>\n",
       "    <tr>\n",
       "      <th>4</th>\n",
       "      <td>Male</td>\n",
       "      <td>Health</td>\n",
       "      <td>Basic</td>\n",
       "    </tr>\n",
       "  </tbody>\n",
       "</table>\n",
       "</div>"
      ],
      "text/plain": [
       "   Gender Insurance_Type Policy_Type\n",
       "0  Female         Health       Basic\n",
       "1  Female           Auto       Basic\n",
       "2  Female           Home     Premium\n",
       "3    Male         Health       Basic\n",
       "4    Male         Health       Basic"
      ]
     },
     "execution_count": 23,
     "metadata": {},
     "output_type": "execute_result"
    }
   ],
   "source": [
    "categorical_df.head()"
   ]
  },
  {
   "cell_type": "code",
   "execution_count": 24,
   "id": "5d09ade1",
   "metadata": {},
   "outputs": [
    {
     "name": "stdout",
     "output_type": "stream",
     "text": [
      "Gender: \n",
      "['Female' 'Male']\n",
      "\n",
      "Insurance_Type: \n",
      "['Health' 'Auto' 'Home']\n",
      "\n",
      "Policy_Type: \n",
      "['Basic' 'Premium' 'Standard']\n",
      "\n"
     ]
    }
   ],
   "source": [
    "# unique values of each column\n",
    "for col in categorical_df.columns:\n",
    "    print(f\"{col}: \\n{categorical_df[col].unique()}\\n\")"
   ]
  },
  {
   "cell_type": "code",
   "execution_count": 25,
   "id": "906aa55b",
   "metadata": {},
   "outputs": [],
   "source": [
    "#one hot encoding\n",
    "categorical_df = pd.get_dummies(categorical_df, drop_first = True)"
   ]
  },
  {
   "cell_type": "code",
   "execution_count": 26,
   "id": "c831bf69",
   "metadata": {},
   "outputs": [
    {
     "data": {
      "text/html": [
       "<div>\n",
       "<style scoped>\n",
       "    .dataframe tbody tr th:only-of-type {\n",
       "        vertical-align: middle;\n",
       "    }\n",
       "\n",
       "    .dataframe tbody tr th {\n",
       "        vertical-align: top;\n",
       "    }\n",
       "\n",
       "    .dataframe thead th {\n",
       "        text-align: right;\n",
       "    }\n",
       "</style>\n",
       "<table border=\"1\" class=\"dataframe\">\n",
       "  <thead>\n",
       "    <tr style=\"text-align: right;\">\n",
       "      <th></th>\n",
       "      <th>Gender_Male</th>\n",
       "      <th>Insurance_Type_Health</th>\n",
       "      <th>Insurance_Type_Home</th>\n",
       "      <th>Policy_Type_Premium</th>\n",
       "      <th>Policy_Type_Standard</th>\n",
       "    </tr>\n",
       "  </thead>\n",
       "  <tbody>\n",
       "    <tr>\n",
       "      <th>0</th>\n",
       "      <td>0</td>\n",
       "      <td>1</td>\n",
       "      <td>0</td>\n",
       "      <td>0</td>\n",
       "      <td>0</td>\n",
       "    </tr>\n",
       "    <tr>\n",
       "      <th>1</th>\n",
       "      <td>0</td>\n",
       "      <td>0</td>\n",
       "      <td>0</td>\n",
       "      <td>0</td>\n",
       "      <td>0</td>\n",
       "    </tr>\n",
       "    <tr>\n",
       "      <th>2</th>\n",
       "      <td>0</td>\n",
       "      <td>0</td>\n",
       "      <td>1</td>\n",
       "      <td>1</td>\n",
       "      <td>0</td>\n",
       "    </tr>\n",
       "    <tr>\n",
       "      <th>3</th>\n",
       "      <td>1</td>\n",
       "      <td>1</td>\n",
       "      <td>0</td>\n",
       "      <td>0</td>\n",
       "      <td>0</td>\n",
       "    </tr>\n",
       "    <tr>\n",
       "      <th>4</th>\n",
       "      <td>1</td>\n",
       "      <td>1</td>\n",
       "      <td>0</td>\n",
       "      <td>0</td>\n",
       "      <td>0</td>\n",
       "    </tr>\n",
       "  </tbody>\n",
       "</table>\n",
       "</div>"
      ],
      "text/plain": [
       "   Gender_Male  Insurance_Type_Health  Insurance_Type_Home  \\\n",
       "0            0                      1                    0   \n",
       "1            0                      0                    0   \n",
       "2            0                      0                    1   \n",
       "3            1                      1                    0   \n",
       "4            1                      1                    0   \n",
       "\n",
       "   Policy_Type_Premium  Policy_Type_Standard  \n",
       "0                    0                     0  \n",
       "1                    0                     0  \n",
       "2                    1                     0  \n",
       "3                    0                     0  \n",
       "4                    0                     0  "
      ]
     },
     "execution_count": 26,
     "metadata": {},
     "output_type": "execute_result"
    }
   ],
   "source": [
    "categorical_df.head()"
   ]
  },
  {
   "cell_type": "code",
   "execution_count": 27,
   "id": "c4f5bc0c",
   "metadata": {},
   "outputs": [],
   "source": [
    "#subset number columns\n",
    "number_df = X.select_dtypes(include=['int64', 'float64'])"
   ]
  },
  {
   "cell_type": "code",
   "execution_count": 28,
   "id": "8ce297d8",
   "metadata": {
    "scrolled": true
   },
   "outputs": [
    {
     "data": {
      "text/html": [
       "<div>\n",
       "<style scoped>\n",
       "    .dataframe tbody tr th:only-of-type {\n",
       "        vertical-align: middle;\n",
       "    }\n",
       "\n",
       "    .dataframe tbody tr th {\n",
       "        vertical-align: top;\n",
       "    }\n",
       "\n",
       "    .dataframe thead th {\n",
       "        text-align: right;\n",
       "    }\n",
       "</style>\n",
       "<table border=\"1\" class=\"dataframe\">\n",
       "  <thead>\n",
       "    <tr style=\"text-align: right;\">\n",
       "      <th></th>\n",
       "      <th>Age</th>\n",
       "      <th>Claim_Amount</th>\n",
       "      <th>Diagnosis_Code</th>\n",
       "      <th>Treatment_Code</th>\n",
       "      <th>Hospital_Code</th>\n",
       "      <th>Doctor_Fee</th>\n",
       "    </tr>\n",
       "  </thead>\n",
       "  <tbody>\n",
       "    <tr>\n",
       "      <th>0</th>\n",
       "      <td>62</td>\n",
       "      <td>15216.582540</td>\n",
       "      <td>131</td>\n",
       "      <td>5733</td>\n",
       "      <td>77</td>\n",
       "      <td>646.464587</td>\n",
       "    </tr>\n",
       "    <tr>\n",
       "      <th>1</th>\n",
       "      <td>65</td>\n",
       "      <td>15552.516019</td>\n",
       "      <td>505</td>\n",
       "      <td>5725</td>\n",
       "      <td>22</td>\n",
       "      <td>976.754644</td>\n",
       "    </tr>\n",
       "    <tr>\n",
       "      <th>2</th>\n",
       "      <td>71</td>\n",
       "      <td>14838.511760</td>\n",
       "      <td>907</td>\n",
       "      <td>8067</td>\n",
       "      <td>54</td>\n",
       "      <td>216.533344</td>\n",
       "    </tr>\n",
       "    <tr>\n",
       "      <th>3</th>\n",
       "      <td>18</td>\n",
       "      <td>10922.981980</td>\n",
       "      <td>256</td>\n",
       "      <td>9255</td>\n",
       "      <td>28</td>\n",
       "      <td>451.173165</td>\n",
       "    </tr>\n",
       "    <tr>\n",
       "      <th>4</th>\n",
       "      <td>21</td>\n",
       "      <td>15372.064160</td>\n",
       "      <td>539</td>\n",
       "      <td>2130</td>\n",
       "      <td>29</td>\n",
       "      <td>288.030168</td>\n",
       "    </tr>\n",
       "  </tbody>\n",
       "</table>\n",
       "</div>"
      ],
      "text/plain": [
       "   Age  Claim_Amount  Diagnosis_Code  Treatment_Code  Hospital_Code  \\\n",
       "0   62  15216.582540             131            5733             77   \n",
       "1   65  15552.516019             505            5725             22   \n",
       "2   71  14838.511760             907            8067             54   \n",
       "3   18  10922.981980             256            9255             28   \n",
       "4   21  15372.064160             539            2130             29   \n",
       "\n",
       "   Doctor_Fee  \n",
       "0  646.464587  \n",
       "1  976.754644  \n",
       "2  216.533344  \n",
       "3  451.173165  \n",
       "4  288.030168  "
      ]
     },
     "execution_count": 28,
     "metadata": {},
     "output_type": "execute_result"
    }
   ],
   "source": [
    "number_df.head()"
   ]
  },
  {
   "cell_type": "code",
   "execution_count": 29,
   "id": "0c7a5c6b",
   "metadata": {},
   "outputs": [],
   "source": [
    "# combining number and categorical dataframes\n",
    "\n",
    "X = pd.concat([number_df, categorical_df], axis = 1)"
   ]
  },
  {
   "cell_type": "code",
   "execution_count": 30,
   "id": "97463ca0",
   "metadata": {
    "scrolled": true
   },
   "outputs": [
    {
     "data": {
      "text/html": [
       "<div>\n",
       "<style scoped>\n",
       "    .dataframe tbody tr th:only-of-type {\n",
       "        vertical-align: middle;\n",
       "    }\n",
       "\n",
       "    .dataframe tbody tr th {\n",
       "        vertical-align: top;\n",
       "    }\n",
       "\n",
       "    .dataframe thead th {\n",
       "        text-align: right;\n",
       "    }\n",
       "</style>\n",
       "<table border=\"1\" class=\"dataframe\">\n",
       "  <thead>\n",
       "    <tr style=\"text-align: right;\">\n",
       "      <th></th>\n",
       "      <th>Age</th>\n",
       "      <th>Claim_Amount</th>\n",
       "      <th>Diagnosis_Code</th>\n",
       "      <th>Treatment_Code</th>\n",
       "      <th>Hospital_Code</th>\n",
       "      <th>Doctor_Fee</th>\n",
       "      <th>Gender_Male</th>\n",
       "      <th>Insurance_Type_Health</th>\n",
       "      <th>Insurance_Type_Home</th>\n",
       "      <th>Policy_Type_Premium</th>\n",
       "      <th>Policy_Type_Standard</th>\n",
       "    </tr>\n",
       "  </thead>\n",
       "  <tbody>\n",
       "    <tr>\n",
       "      <th>0</th>\n",
       "      <td>62</td>\n",
       "      <td>15216.582540</td>\n",
       "      <td>131</td>\n",
       "      <td>5733</td>\n",
       "      <td>77</td>\n",
       "      <td>646.464587</td>\n",
       "      <td>0</td>\n",
       "      <td>1</td>\n",
       "      <td>0</td>\n",
       "      <td>0</td>\n",
       "      <td>0</td>\n",
       "    </tr>\n",
       "    <tr>\n",
       "      <th>1</th>\n",
       "      <td>65</td>\n",
       "      <td>15552.516019</td>\n",
       "      <td>505</td>\n",
       "      <td>5725</td>\n",
       "      <td>22</td>\n",
       "      <td>976.754644</td>\n",
       "      <td>0</td>\n",
       "      <td>0</td>\n",
       "      <td>0</td>\n",
       "      <td>0</td>\n",
       "      <td>0</td>\n",
       "    </tr>\n",
       "    <tr>\n",
       "      <th>2</th>\n",
       "      <td>71</td>\n",
       "      <td>14838.511760</td>\n",
       "      <td>907</td>\n",
       "      <td>8067</td>\n",
       "      <td>54</td>\n",
       "      <td>216.533344</td>\n",
       "      <td>0</td>\n",
       "      <td>0</td>\n",
       "      <td>1</td>\n",
       "      <td>1</td>\n",
       "      <td>0</td>\n",
       "    </tr>\n",
       "    <tr>\n",
       "      <th>3</th>\n",
       "      <td>18</td>\n",
       "      <td>10922.981980</td>\n",
       "      <td>256</td>\n",
       "      <td>9255</td>\n",
       "      <td>28</td>\n",
       "      <td>451.173165</td>\n",
       "      <td>1</td>\n",
       "      <td>1</td>\n",
       "      <td>0</td>\n",
       "      <td>0</td>\n",
       "      <td>0</td>\n",
       "    </tr>\n",
       "    <tr>\n",
       "      <th>4</th>\n",
       "      <td>21</td>\n",
       "      <td>15372.064160</td>\n",
       "      <td>539</td>\n",
       "      <td>2130</td>\n",
       "      <td>29</td>\n",
       "      <td>288.030168</td>\n",
       "      <td>1</td>\n",
       "      <td>1</td>\n",
       "      <td>0</td>\n",
       "      <td>0</td>\n",
       "      <td>0</td>\n",
       "    </tr>\n",
       "  </tbody>\n",
       "</table>\n",
       "</div>"
      ],
      "text/plain": [
       "   Age  Claim_Amount  Diagnosis_Code  Treatment_Code  Hospital_Code  \\\n",
       "0   62  15216.582540             131            5733             77   \n",
       "1   65  15552.516019             505            5725             22   \n",
       "2   71  14838.511760             907            8067             54   \n",
       "3   18  10922.981980             256            9255             28   \n",
       "4   21  15372.064160             539            2130             29   \n",
       "\n",
       "   Doctor_Fee  Gender_Male  Insurance_Type_Health  Insurance_Type_Home  \\\n",
       "0  646.464587            0                      1                    0   \n",
       "1  976.754644            0                      0                    0   \n",
       "2  216.533344            0                      0                    1   \n",
       "3  451.173165            1                      1                    0   \n",
       "4  288.030168            1                      1                    0   \n",
       "\n",
       "   Policy_Type_Premium  Policy_Type_Standard  \n",
       "0                    0                     0  \n",
       "1                    0                     0  \n",
       "2                    1                     0  \n",
       "3                    0                     0  \n",
       "4                    0                     0  "
      ]
     },
     "execution_count": 30,
     "metadata": {},
     "output_type": "execute_result"
    }
   ],
   "source": [
    "X.head()"
   ]
  },
  {
   "cell_type": "markdown",
   "id": "5c0c8a21",
   "metadata": {},
   "source": [
    "**Analyze**"
   ]
  },
  {
   "cell_type": "code",
   "execution_count": 31,
   "id": "33904b20",
   "metadata": {},
   "outputs": [
    {
     "data": {
      "image/png": "[encoded data removed]",
      "text/plain": [
       "<Figure size 2000x1500 with 11 Axes>"
      ]
     },
     "metadata": {},
     "output_type": "display_data"
    }
   ],
   "source": [
    "#checking for outliers\n",
    "plt.figure(figsize = (20, 15))\n",
    "plotnumber = 1\n",
    "\n",
    "for col in X.columns:\n",
    "    if plotnumber <= 24:\n",
    "        ax = plt.subplot(5, 5, plotnumber)\n",
    "        sns.boxplot(X[col])\n",
    "        plt.xlabel(col, fontsize = 15)\n",
    "    \n",
    "    plotnumber += 1\n",
    "plt.tight_layout()\n",
    "plt.show()"
   ]
  },
  {
   "cell_type": "markdown",
   "id": "78757d5e",
   "metadata": {},
   "source": [
    "Outliers are apparent in Claim_Amount and Doctor_fee"
   ]
  },
  {
   "cell_type": "markdown",
   "id": "5c674374",
   "metadata": {},
   "source": [
    "**I am going to begin now defining my features and the target, and setup my training and test data**"
   ]
  },
  {
   "cell_type": "code",
   "execution_count": 32,
   "id": "82120535",
   "metadata": {
    "scrolled": true
   },
   "outputs": [],
   "source": [
    "# Split the data into training and test sets\n",
    "from sklearn.model_selection import train_test_split\n",
    "\n",
    "X_train, X_test, y_train, y_test = train_test_split(X, y, test_size = 0.25)"
   ]
  },
  {
   "cell_type": "code",
   "execution_count": 33,
   "id": "75ba7c84",
   "metadata": {
    "scrolled": true
   },
   "outputs": [
    {
     "data": {
      "text/html": [
       "<div>\n",
       "<style scoped>\n",
       "    .dataframe tbody tr th:only-of-type {\n",
       "        vertical-align: middle;\n",
       "    }\n",
       "\n",
       "    .dataframe tbody tr th {\n",
       "        vertical-align: top;\n",
       "    }\n",
       "\n",
       "    .dataframe thead th {\n",
       "        text-align: right;\n",
       "    }\n",
       "</style>\n",
       "<table border=\"1\" class=\"dataframe\">\n",
       "  <thead>\n",
       "    <tr style=\"text-align: right;\">\n",
       "      <th></th>\n",
       "      <th>Age</th>\n",
       "      <th>Claim_Amount</th>\n",
       "      <th>Diagnosis_Code</th>\n",
       "      <th>Treatment_Code</th>\n",
       "      <th>Hospital_Code</th>\n",
       "      <th>Doctor_Fee</th>\n",
       "      <th>Gender_Male</th>\n",
       "      <th>Insurance_Type_Health</th>\n",
       "      <th>Insurance_Type_Home</th>\n",
       "      <th>Policy_Type_Premium</th>\n",
       "      <th>Policy_Type_Standard</th>\n",
       "    </tr>\n",
       "  </thead>\n",
       "  <tbody>\n",
       "    <tr>\n",
       "      <th>6739</th>\n",
       "      <td>52</td>\n",
       "      <td>29731.15799</td>\n",
       "      <td>806</td>\n",
       "      <td>5401</td>\n",
       "      <td>77</td>\n",
       "      <td>487.198924</td>\n",
       "      <td>1</td>\n",
       "      <td>0</td>\n",
       "      <td>1</td>\n",
       "      <td>0</td>\n",
       "      <td>0</td>\n",
       "    </tr>\n",
       "    <tr>\n",
       "      <th>8342</th>\n",
       "      <td>73</td>\n",
       "      <td>14882.05032</td>\n",
       "      <td>616</td>\n",
       "      <td>6739</td>\n",
       "      <td>82</td>\n",
       "      <td>837.659743</td>\n",
       "      <td>1</td>\n",
       "      <td>0</td>\n",
       "      <td>0</td>\n",
       "      <td>0</td>\n",
       "      <td>0</td>\n",
       "    </tr>\n",
       "    <tr>\n",
       "      <th>8018</th>\n",
       "      <td>21</td>\n",
       "      <td>21003.23263</td>\n",
       "      <td>475</td>\n",
       "      <td>7138</td>\n",
       "      <td>58</td>\n",
       "      <td>456.910720</td>\n",
       "      <td>1</td>\n",
       "      <td>1</td>\n",
       "      <td>0</td>\n",
       "      <td>0</td>\n",
       "      <td>1</td>\n",
       "    </tr>\n",
       "    <tr>\n",
       "      <th>5635</th>\n",
       "      <td>47</td>\n",
       "      <td>16115.11858</td>\n",
       "      <td>424</td>\n",
       "      <td>5370</td>\n",
       "      <td>61</td>\n",
       "      <td>731.591697</td>\n",
       "      <td>0</td>\n",
       "      <td>0</td>\n",
       "      <td>0</td>\n",
       "      <td>0</td>\n",
       "      <td>1</td>\n",
       "    </tr>\n",
       "    <tr>\n",
       "      <th>8490</th>\n",
       "      <td>76</td>\n",
       "      <td>15650.94442</td>\n",
       "      <td>381</td>\n",
       "      <td>7911</td>\n",
       "      <td>22</td>\n",
       "      <td>148.140326</td>\n",
       "      <td>0</td>\n",
       "      <td>1</td>\n",
       "      <td>0</td>\n",
       "      <td>0</td>\n",
       "      <td>0</td>\n",
       "    </tr>\n",
       "  </tbody>\n",
       "</table>\n",
       "</div>"
      ],
      "text/plain": [
       "      Age  Claim_Amount  Diagnosis_Code  Treatment_Code  Hospital_Code  \\\n",
       "6739   52   29731.15799             806            5401             77   \n",
       "8342   73   14882.05032             616            6739             82   \n",
       "8018   21   21003.23263             475            7138             58   \n",
       "5635   47   16115.11858             424            5370             61   \n",
       "8490   76   15650.94442             381            7911             22   \n",
       "\n",
       "      Doctor_Fee  Gender_Male  Insurance_Type_Health  Insurance_Type_Home  \\\n",
       "6739  487.198924            1                      0                    1   \n",
       "8342  837.659743            1                      0                    0   \n",
       "8018  456.910720            1                      1                    0   \n",
       "5635  731.591697            0                      0                    0   \n",
       "8490  148.140326            0                      1                    0   \n",
       "\n",
       "      Policy_Type_Premium  Policy_Type_Standard  \n",
       "6739                    0                     0  \n",
       "8342                    0                     0  \n",
       "8018                    0                     1  \n",
       "5635                    0                     1  \n",
       "8490                    0                     0  "
      ]
     },
     "execution_count": 33,
     "metadata": {},
     "output_type": "execute_result"
    }
   ],
   "source": [
    "X_train.head()"
   ]
  },
  {
   "cell_type": "code",
   "execution_count": 34,
   "id": "7578dccc",
   "metadata": {},
   "outputs": [],
   "source": [
    "#finally, will scale training data for subsequent analysis and modeling\n",
    "num_df= X_train[['Age', 'Claim_Amount', 'Doctor_Fee']]"
   ]
  },
  {
   "cell_type": "code",
   "execution_count": 35,
   "id": "90eba1f3",
   "metadata": {},
   "outputs": [],
   "source": [
    "from sklearn.preprocessing import StandardScaler\n",
    "\n",
    "scaler = StandardScaler()\n",
    "scaled_data = scaler.fit_transform(num_df)"
   ]
  },
  {
   "cell_type": "code",
   "execution_count": 36,
   "id": "1d0538ca",
   "metadata": {
    "scrolled": true
   },
   "outputs": [
    {
     "data": {
      "text/html": [
       "<div>\n",
       "<style scoped>\n",
       "    .dataframe tbody tr th:only-of-type {\n",
       "        vertical-align: middle;\n",
       "    }\n",
       "\n",
       "    .dataframe tbody tr th {\n",
       "        vertical-align: top;\n",
       "    }\n",
       "\n",
       "    .dataframe thead th {\n",
       "        text-align: right;\n",
       "    }\n",
       "</style>\n",
       "<table border=\"1\" class=\"dataframe\">\n",
       "  <thead>\n",
       "    <tr style=\"text-align: right;\">\n",
       "      <th></th>\n",
       "      <th>Age</th>\n",
       "      <th>Claim_Amount</th>\n",
       "      <th>Doctor_Fee</th>\n",
       "    </tr>\n",
       "  </thead>\n",
       "  <tbody>\n",
       "    <tr>\n",
       "      <th>6739</th>\n",
       "      <td>0.195268</td>\n",
       "      <td>3.480531</td>\n",
       "      <td>-0.078929</td>\n",
       "    </tr>\n",
       "    <tr>\n",
       "      <th>8342</th>\n",
       "      <td>1.368800</td>\n",
       "      <td>-0.317554</td>\n",
       "      <td>1.705340</td>\n",
       "    </tr>\n",
       "    <tr>\n",
       "      <th>8018</th>\n",
       "      <td>-1.537089</td>\n",
       "      <td>1.248114</td>\n",
       "      <td>-0.233133</td>\n",
       "    </tr>\n",
       "    <tr>\n",
       "      <th>5635</th>\n",
       "      <td>-0.084144</td>\n",
       "      <td>-0.002162</td>\n",
       "      <td>1.165326</td>\n",
       "    </tr>\n",
       "    <tr>\n",
       "      <th>8490</th>\n",
       "      <td>1.536448</td>\n",
       "      <td>-0.120888</td>\n",
       "      <td>-1.805148</td>\n",
       "    </tr>\n",
       "  </tbody>\n",
       "</table>\n",
       "</div>"
      ],
      "text/plain": [
       "           Age  Claim_Amount  Doctor_Fee\n",
       "6739  0.195268      3.480531   -0.078929\n",
       "8342  1.368800     -0.317554    1.705340\n",
       "8018 -1.537089      1.248114   -0.233133\n",
       "5635 -0.084144     -0.002162    1.165326\n",
       "8490  1.536448     -0.120888   -1.805148"
      ]
     },
     "execution_count": 36,
     "metadata": {},
     "output_type": "execute_result"
    }
   ],
   "source": [
    "scaled_num_df = pd.DataFrame(data = scaled_data, columns = num_df.columns, index = X_train.index)\n",
    "scaled_num_df.head()"
   ]
  },
  {
   "cell_type": "code",
   "execution_count": 37,
   "id": "1a3cfaa2",
   "metadata": {},
   "outputs": [],
   "source": [
    "X_train.drop(columns = scaled_num_df.columns, inplace = True)"
   ]
  },
  {
   "cell_type": "code",
   "execution_count": 38,
   "id": "f937211d",
   "metadata": {},
   "outputs": [],
   "source": [
    "X_train = pd.concat([scaled_num_df, X_train], axis = 1)"
   ]
  },
  {
   "cell_type": "code",
   "execution_count": 39,
   "id": "509accba",
   "metadata": {},
   "outputs": [
    {
     "data": {
      "text/html": [
       "<div>\n",
       "<style scoped>\n",
       "    .dataframe tbody tr th:only-of-type {\n",
       "        vertical-align: middle;\n",
       "    }\n",
       "\n",
       "    .dataframe tbody tr th {\n",
       "        vertical-align: top;\n",
       "    }\n",
       "\n",
       "    .dataframe thead th {\n",
       "        text-align: right;\n",
       "    }\n",
       "</style>\n",
       "<table border=\"1\" class=\"dataframe\">\n",
       "  <thead>\n",
       "    <tr style=\"text-align: right;\">\n",
       "      <th></th>\n",
       "      <th>Age</th>\n",
       "      <th>Claim_Amount</th>\n",
       "      <th>Doctor_Fee</th>\n",
       "      <th>Diagnosis_Code</th>\n",
       "      <th>Treatment_Code</th>\n",
       "      <th>Hospital_Code</th>\n",
       "      <th>Gender_Male</th>\n",
       "      <th>Insurance_Type_Health</th>\n",
       "      <th>Insurance_Type_Home</th>\n",
       "      <th>Policy_Type_Premium</th>\n",
       "      <th>Policy_Type_Standard</th>\n",
       "    </tr>\n",
       "  </thead>\n",
       "  <tbody>\n",
       "    <tr>\n",
       "      <th>6739</th>\n",
       "      <td>0.195268</td>\n",
       "      <td>3.480531</td>\n",
       "      <td>-0.078929</td>\n",
       "      <td>806</td>\n",
       "      <td>5401</td>\n",
       "      <td>77</td>\n",
       "      <td>1</td>\n",
       "      <td>0</td>\n",
       "      <td>1</td>\n",
       "      <td>0</td>\n",
       "      <td>0</td>\n",
       "    </tr>\n",
       "    <tr>\n",
       "      <th>8342</th>\n",
       "      <td>1.368800</td>\n",
       "      <td>-0.317554</td>\n",
       "      <td>1.705340</td>\n",
       "      <td>616</td>\n",
       "      <td>6739</td>\n",
       "      <td>82</td>\n",
       "      <td>1</td>\n",
       "      <td>0</td>\n",
       "      <td>0</td>\n",
       "      <td>0</td>\n",
       "      <td>0</td>\n",
       "    </tr>\n",
       "    <tr>\n",
       "      <th>8018</th>\n",
       "      <td>-1.537089</td>\n",
       "      <td>1.248114</td>\n",
       "      <td>-0.233133</td>\n",
       "      <td>475</td>\n",
       "      <td>7138</td>\n",
       "      <td>58</td>\n",
       "      <td>1</td>\n",
       "      <td>1</td>\n",
       "      <td>0</td>\n",
       "      <td>0</td>\n",
       "      <td>1</td>\n",
       "    </tr>\n",
       "    <tr>\n",
       "      <th>5635</th>\n",
       "      <td>-0.084144</td>\n",
       "      <td>-0.002162</td>\n",
       "      <td>1.165326</td>\n",
       "      <td>424</td>\n",
       "      <td>5370</td>\n",
       "      <td>61</td>\n",
       "      <td>0</td>\n",
       "      <td>0</td>\n",
       "      <td>0</td>\n",
       "      <td>0</td>\n",
       "      <td>1</td>\n",
       "    </tr>\n",
       "    <tr>\n",
       "      <th>8490</th>\n",
       "      <td>1.536448</td>\n",
       "      <td>-0.120888</td>\n",
       "      <td>-1.805148</td>\n",
       "      <td>381</td>\n",
       "      <td>7911</td>\n",
       "      <td>22</td>\n",
       "      <td>0</td>\n",
       "      <td>1</td>\n",
       "      <td>0</td>\n",
       "      <td>0</td>\n",
       "      <td>0</td>\n",
       "    </tr>\n",
       "  </tbody>\n",
       "</table>\n",
       "</div>"
      ],
      "text/plain": [
       "           Age  Claim_Amount  Doctor_Fee  Diagnosis_Code  Treatment_Code  \\\n",
       "6739  0.195268      3.480531   -0.078929             806            5401   \n",
       "8342  1.368800     -0.317554    1.705340             616            6739   \n",
       "8018 -1.537089      1.248114   -0.233133             475            7138   \n",
       "5635 -0.084144     -0.002162    1.165326             424            5370   \n",
       "8490  1.536448     -0.120888   -1.805148             381            7911   \n",
       "\n",
       "      Hospital_Code  Gender_Male  Insurance_Type_Health  Insurance_Type_Home  \\\n",
       "6739             77            1                      0                    1   \n",
       "8342             82            1                      0                    0   \n",
       "8018             58            1                      1                    0   \n",
       "5635             61            0                      0                    0   \n",
       "8490             22            0                      1                    0   \n",
       "\n",
       "      Policy_Type_Premium  Policy_Type_Standard  \n",
       "6739                    0                     0  \n",
       "8342                    0                     0  \n",
       "8018                    0                     1  \n",
       "5635                    0                     1  \n",
       "8490                    0                     0  "
      ]
     },
     "execution_count": 39,
     "metadata": {},
     "output_type": "execute_result"
    }
   ],
   "source": [
    "X_train.head()"
   ]
  },
  {
   "cell_type": "markdown",
   "id": "8569cbaf",
   "metadata": {},
   "source": [
    "*We have complete preprocessing and are now ready to begin modeling*"
   ]
  },
  {
   "cell_type": "markdown",
   "id": "8b6b127c",
   "metadata": {},
   "source": [
    "# Modeling"
   ]
  },
  {
   "cell_type": "markdown",
   "id": "bcd83514",
   "metadata": {},
   "source": [
    "**1. Support Vector Classifier**"
   ]
  },
  {
   "cell_type": "code",
   "execution_count": 41,
   "id": "8ee8bae1",
   "metadata": {},
   "outputs": [
    {
     "name": "stdout",
     "output_type": "stream",
     "text": [
      "Training data columns: Index(['Age', 'Claim_Amount', 'Doctor_Fee', 'Diagnosis_Code', 'Treatment_Code',\n",
      "       'Hospital_Code', 'Gender_Male', 'Insurance_Type_Health',\n",
      "       'Insurance_Type_Home', 'Policy_Type_Premium', 'Policy_Type_Standard'],\n",
      "      dtype='object')\n",
      "Test data columns: Index(['Age', 'Claim_Amount', 'Diagnosis_Code', 'Treatment_Code',\n",
      "       'Hospital_Code', 'Doctor_Fee', 'Gender_Male', 'Insurance_Type_Health',\n",
      "       'Insurance_Type_Home', 'Policy_Type_Premium', 'Policy_Type_Standard'],\n",
      "      dtype='object')\n"
     ]
    }
   ],
   "source": [
    "from sklearn.svm import SVC\n",
    "\n",
    "# Assuming X_train and X_test are pandas DataFrames or similar\n",
    "# Make sure column names and order are consistent\n",
    "print(\"Training data columns:\", X_train.columns)\n",
    "print(\"Test data columns:\", X_test.columns)\n",
    "\n",
    "# Ensure columns in X_test are in the same order as X_train\n",
    "X_test = X_test[X_train.columns]\n",
    "\n",
    "# Initialize and fit SVC model\n",
    "svc = SVC()\n",
    "svc.fit(X_train, y_train)\n",
    "\n",
    "# Predict using the fitted model\n",
    "y_pred = svc.predict(X_test)"
   ]
  },
  {
   "cell_type": "code",
   "execution_count": 42,
   "id": "332a6e45",
   "metadata": {},
   "outputs": [
    {
     "name": "stdout",
     "output_type": "stream",
     "text": [
      "Training accuracy of SVC: 0.9510666666666666\n",
      "Test accuracy of SVC: 0.9468\n",
      "[[2367    0]\n",
      " [ 133    0]]\n",
      "              precision    recall  f1-score   support\n",
      "\n",
      "           0       0.95      1.00      0.97      2367\n",
      "           1       0.00      0.00      0.00       133\n",
      "\n",
      "    accuracy                           0.95      2500\n",
      "   macro avg       0.47      0.50      0.49      2500\n",
      "weighted avg       0.90      0.95      0.92      2500\n",
      "\n"
     ]
    },
    {
     "name": "stderr",
     "output_type": "stream",
     "text": [
      "C:\\ProgramData\\anaconda3\\Lib\\site-packages\\sklearn\\metrics\\_classification.py:1469: UndefinedMetricWarning: Precision and F-score are ill-defined and being set to 0.0 in labels with no predicted samples. Use `zero_division` parameter to control this behavior.\n",
      "  _warn_prf(average, modifier, msg_start, len(result))\n",
      "C:\\ProgramData\\anaconda3\\Lib\\site-packages\\sklearn\\metrics\\_classification.py:1469: UndefinedMetricWarning: Precision and F-score are ill-defined and being set to 0.0 in labels with no predicted samples. Use `zero_division` parameter to control this behavior.\n",
      "  _warn_prf(average, modifier, msg_start, len(result))\n",
      "C:\\ProgramData\\anaconda3\\Lib\\site-packages\\sklearn\\metrics\\_classification.py:1469: UndefinedMetricWarning: Precision and F-score are ill-defined and being set to 0.0 in labels with no predicted samples. Use `zero_division` parameter to control this behavior.\n",
      "  _warn_prf(average, modifier, msg_start, len(result))\n"
     ]
    }
   ],
   "source": [
    "# accuracy_score, confusion_matrix and classification_report\n",
    "\n",
    "from sklearn.metrics import accuracy_score, confusion_matrix, classification_report\n",
    "\n",
    "svc_train_acc = accuracy_score(y_train, svc.predict(X_train))\n",
    "svc_test_acc = accuracy_score(y_test, y_pred)\n",
    "\n",
    "print(f\"Training accuracy of SVC: {svc_train_acc}\")\n",
    "print(f\"Test accuracy of SVC: {svc_test_acc}\")\n",
    "\n",
    "print(confusion_matrix(y_test, y_pred))\n",
    "print(classification_report(y_test, y_pred))"
   ]
  },
  {
   "cell_type": "markdown",
   "id": "7f80548e",
   "metadata": {},
   "source": [
    "**2. Decision Tree Classifier**"
   ]
  },
  {
   "cell_type": "code",
   "execution_count": 43,
   "id": "61a5f22f",
   "metadata": {},
   "outputs": [],
   "source": [
    "from sklearn.tree import DecisionTreeClassifier\n",
    "\n",
    "dtc = DecisionTreeClassifier()\n",
    "dtc.fit(X_train, y_train)\n",
    "\n",
    "y_pred = dtc.predict(X_test)"
   ]
  },
  {
   "cell_type": "code",
   "execution_count": 44,
   "id": "6cab62fc",
   "metadata": {},
   "outputs": [
    {
     "name": "stdout",
     "output_type": "stream",
     "text": [
      "Training accuracy of Decision Tree: 1.0\n",
      "Test accuracy of Decision Tree: 0.6944\n",
      "[[1692  675]\n",
      " [  89   44]]\n",
      "              precision    recall  f1-score   support\n",
      "\n",
      "           0       0.95      0.71      0.82      2367\n",
      "           1       0.06      0.33      0.10       133\n",
      "\n",
      "    accuracy                           0.69      2500\n",
      "   macro avg       0.51      0.52      0.46      2500\n",
      "weighted avg       0.90      0.69      0.78      2500\n",
      "\n"
     ]
    }
   ],
   "source": [
    "from sklearn.metrics import accuracy_score, confusion_matrix, classification_report\n",
    "\n",
    "dtc_train = accuracy_score(y_train, dtc.predict(X_train))\n",
    "dtc_test = accuracy_score(y_test, y_pred)\n",
    "\n",
    "print(f\"Training accuracy of Decision Tree: {dtc_train}\")\n",
    "print(f\"Test accuracy of Decision Tree: {dtc_test}\")\n",
    "\n",
    "print(confusion_matrix(y_test, y_pred))\n",
    "print(classification_report(y_test, y_pred))"
   ]
  },
  {
   "cell_type": "code",
   "execution_count": 45,
   "id": "6caf6ca6",
   "metadata": {},
   "outputs": [
    {
     "name": "stdout",
     "output_type": "stream",
     "text": [
      "Fitting 5 folds for each of 512 candidates, totalling 2560 fits\n"
     ]
    },
    {
     "data": {
      "text/html": [
       "<style>#sk-container-id-1 {color: black;}#sk-container-id-1 pre{padding: 0;}#sk-container-id-1 div.sk-toggleable {background-color: white;}#sk-container-id-1 label.sk-toggleable__label {cursor: pointer;display: block;width: 100%;margin-bottom: 0;padding: 0.3em;box-sizing: border-box;text-align: center;}#sk-container-id-1 label.sk-toggleable__label-arrow:before {content: \"▸\";float: left;margin-right: 0.25em;color: #696969;}#sk-container-id-1 label.sk-toggleable__label-arrow:hover:before {color: black;}#sk-container-id-1 div.sk-estimator:hover label.sk-toggleable__label-arrow:before {color: black;}#sk-container-id-1 div.sk-toggleable__content {max-height: 0;max-width: 0;overflow: hidden;text-align: left;background-color: #f0f8ff;}#sk-container-id-1 div.sk-toggleable__content pre {margin: 0.2em;color: black;border-radius: 0.25em;background-color: #f0f8ff;}#sk-container-id-1 input.sk-toggleable__control:checked~div.sk-toggleable__content {max-height: 200px;max-width: 100%;overflow: auto;}#sk-container-id-1 input.sk-toggleable__control:checked~label.sk-toggleable__label-arrow:before {content: \"▾\";}#sk-container-id-1 div.sk-estimator input.sk-toggleable__control:checked~label.sk-toggleable__label {background-color: #d4ebff;}#sk-container-id-1 div.sk-label input.sk-toggleable__control:checked~label.sk-toggleable__label {background-color: #d4ebff;}#sk-container-id-1 input.sk-hidden--visually {border: 0;clip: rect(1px 1px 1px 1px);clip: rect(1px, 1px, 1px, 1px);height: 1px;margin: -1px;overflow: hidden;padding: 0;position: absolute;width: 1px;}#sk-container-id-1 div.sk-estimator {font-family: monospace;background-color: #f0f8ff;border: 1px dotted black;border-radius: 0.25em;box-sizing: border-box;margin-bottom: 0.5em;}#sk-container-id-1 div.sk-estimator:hover {background-color: #d4ebff;}#sk-container-id-1 div.sk-parallel-item::after {content: \"\";width: 100%;border-bottom: 1px solid gray;flex-grow: 1;}#sk-container-id-1 div.sk-label:hover label.sk-toggleable__label {background-color: #d4ebff;}#sk-container-id-1 div.sk-serial::before {content: \"\";position: absolute;border-left: 1px solid gray;box-sizing: border-box;top: 0;bottom: 0;left: 50%;z-index: 0;}#sk-container-id-1 div.sk-serial {display: flex;flex-direction: column;align-items: center;background-color: white;padding-right: 0.2em;padding-left: 0.2em;position: relative;}#sk-container-id-1 div.sk-item {position: relative;z-index: 1;}#sk-container-id-1 div.sk-parallel {display: flex;align-items: stretch;justify-content: center;background-color: white;position: relative;}#sk-container-id-1 div.sk-item::before, #sk-container-id-1 div.sk-parallel-item::before {content: \"\";position: absolute;border-left: 1px solid gray;box-sizing: border-box;top: 0;bottom: 0;left: 50%;z-index: -1;}#sk-container-id-1 div.sk-parallel-item {display: flex;flex-direction: column;z-index: 1;position: relative;background-color: white;}#sk-container-id-1 div.sk-parallel-item:first-child::after {align-self: flex-end;width: 50%;}#sk-container-id-1 div.sk-parallel-item:last-child::after {align-self: flex-start;width: 50%;}#sk-container-id-1 div.sk-parallel-item:only-child::after {width: 0;}#sk-container-id-1 div.sk-dashed-wrapped {border: 1px dashed gray;margin: 0 0.4em 0.5em 0.4em;box-sizing: border-box;padding-bottom: 0.4em;background-color: white;}#sk-container-id-1 div.sk-label label {font-family: monospace;font-weight: bold;display: inline-block;line-height: 1.2em;}#sk-container-id-1 div.sk-label-container {text-align: center;}#sk-container-id-1 div.sk-container {/* jupyter's `normalize.less` sets `[hidden] { display: none; }` but bootstrap.min.css set `[hidden] { display: none !important; }` so we also need the `!important` here to be able to override the default hidden behavior on the sphinx rendered scikit-learn.org. See: https://github.com/scikit-learn/scikit-learn/issues/21755 */display: inline-block !important;position: relative;}#sk-container-id-1 div.sk-text-repr-fallback {display: none;}</style><div id=\"sk-container-id-1\" class=\"sk-top-container\"><div class=\"sk-text-repr-fallback\"><pre>GridSearchCV(cv=5, estimator=DecisionTreeClassifier(), n_jobs=-1,\n",
       "             param_grid={&#x27;criterion&#x27;: [&#x27;gini&#x27;, &#x27;entropy&#x27;],\n",
       "                         &#x27;max_depth&#x27;: [3, 5, 7, 10],\n",
       "                         &#x27;min_samples_leaf&#x27;: range(2, 10),\n",
       "                         &#x27;min_samples_split&#x27;: range(2, 10)},\n",
       "             verbose=1)</pre><b>In a Jupyter environment, please rerun this cell to show the HTML representation or trust the notebook. <br />On GitHub, the HTML representation is unable to render, please try loading this page with nbviewer.org.</b></div><div class=\"sk-container\" hidden><div class=\"sk-item sk-dashed-wrapped\"><div class=\"sk-label-container\"><div class=\"sk-label sk-toggleable\"><input class=\"sk-toggleable__control sk-hidden--visually\" id=\"sk-estimator-id-1\" type=\"checkbox\" ><label for=\"sk-estimator-id-1\" class=\"sk-toggleable__label sk-toggleable__label-arrow\">GridSearchCV</label><div class=\"sk-toggleable__content\"><pre>GridSearchCV(cv=5, estimator=DecisionTreeClassifier(), n_jobs=-1,\n",
       "             param_grid={&#x27;criterion&#x27;: [&#x27;gini&#x27;, &#x27;entropy&#x27;],\n",
       "                         &#x27;max_depth&#x27;: [3, 5, 7, 10],\n",
       "                         &#x27;min_samples_leaf&#x27;: range(2, 10),\n",
       "                         &#x27;min_samples_split&#x27;: range(2, 10)},\n",
       "             verbose=1)</pre></div></div></div><div class=\"sk-parallel\"><div class=\"sk-parallel-item\"><div class=\"sk-item\"><div class=\"sk-label-container\"><div class=\"sk-label sk-toggleable\"><input class=\"sk-toggleable__control sk-hidden--visually\" id=\"sk-estimator-id-2\" type=\"checkbox\" ><label for=\"sk-estimator-id-2\" class=\"sk-toggleable__label sk-toggleable__label-arrow\">estimator: DecisionTreeClassifier</label><div class=\"sk-toggleable__content\"><pre>DecisionTreeClassifier()</pre></div></div></div><div class=\"sk-serial\"><div class=\"sk-item\"><div class=\"sk-estimator sk-toggleable\"><input class=\"sk-toggleable__control sk-hidden--visually\" id=\"sk-estimator-id-3\" type=\"checkbox\" ><label for=\"sk-estimator-id-3\" class=\"sk-toggleable__label sk-toggleable__label-arrow\">DecisionTreeClassifier</label><div class=\"sk-toggleable__content\"><pre>DecisionTreeClassifier()</pre></div></div></div></div></div></div></div></div></div></div>"
      ],
      "text/plain": [
       "GridSearchCV(cv=5, estimator=DecisionTreeClassifier(), n_jobs=-1,\n",
       "             param_grid={'criterion': ['gini', 'entropy'],\n",
       "                         'max_depth': [3, 5, 7, 10],\n",
       "                         'min_samples_leaf': range(2, 10),\n",
       "                         'min_samples_split': range(2, 10)},\n",
       "             verbose=1)"
      ]
     },
     "execution_count": 45,
     "metadata": {},
     "output_type": "execute_result"
    }
   ],
   "source": [
    "#tune hyperparameter\n",
    "\n",
    "from sklearn.model_selection import GridSearchCV\n",
    "\n",
    "grid_params = {\n",
    "    'criterion' : ['gini', 'entropy'],\n",
    "    'max_depth' : [3, 5, 7, 10],\n",
    "    'min_samples_split' : range(2, 10, 1),\n",
    "    'min_samples_leaf' : range(2, 10, 1)\n",
    "}\n",
    "\n",
    "grid_search = GridSearchCV(dtc, grid_params, cv = 5, n_jobs = -1, verbose = 1)\n",
    "grid_search.fit(X_train, y_train)"
   ]
  },
  {
   "cell_type": "code",
   "execution_count": 46,
   "id": "6d3e50d6",
   "metadata": {},
   "outputs": [
    {
     "name": "stdout",
     "output_type": "stream",
     "text": [
      "{'criterion': 'gini', 'max_depth': 3, 'min_samples_leaf': 9, 'min_samples_split': 2}\n",
      "0.9510666666666667\n"
     ]
    }
   ],
   "source": [
    "# best parameters and best score\n",
    "\n",
    "print(grid_search.best_params_)\n",
    "print(grid_search.best_score_)"
   ]
  },
  {
   "cell_type": "code",
   "execution_count": 47,
   "id": "dcf051c6",
   "metadata": {},
   "outputs": [],
   "source": [
    "# check best estimator\n",
    "\n",
    "dtc = grid_search.best_estimator_\n",
    "\n",
    "y_pred = dtc.predict(X_test)"
   ]
  },
  {
   "cell_type": "code",
   "execution_count": 48,
   "id": "75f30d38",
   "metadata": {},
   "outputs": [
    {
     "name": "stdout",
     "output_type": "stream",
     "text": [
      "Training accuracy of Decision Tree: 0.9510666666666666\n",
      "Test accuracy of Decision Tree: 0.9468\n",
      "[[2367    0]\n",
      " [ 133    0]]\n",
      "              precision    recall  f1-score   support\n",
      "\n",
      "           0       0.95      1.00      0.97      2367\n",
      "           1       0.00      0.00      0.00       133\n",
      "\n",
      "    accuracy                           0.95      2500\n",
      "   macro avg       0.47      0.50      0.49      2500\n",
      "weighted avg       0.90      0.95      0.92      2500\n",
      "\n"
     ]
    },
    {
     "name": "stderr",
     "output_type": "stream",
     "text": [
      "C:\\ProgramData\\anaconda3\\Lib\\site-packages\\sklearn\\metrics\\_classification.py:1469: UndefinedMetricWarning: Precision and F-score are ill-defined and being set to 0.0 in labels with no predicted samples. Use `zero_division` parameter to control this behavior.\n",
      "  _warn_prf(average, modifier, msg_start, len(result))\n",
      "C:\\ProgramData\\anaconda3\\Lib\\site-packages\\sklearn\\metrics\\_classification.py:1469: UndefinedMetricWarning: Precision and F-score are ill-defined and being set to 0.0 in labels with no predicted samples. Use `zero_division` parameter to control this behavior.\n",
      "  _warn_prf(average, modifier, msg_start, len(result))\n",
      "C:\\ProgramData\\anaconda3\\Lib\\site-packages\\sklearn\\metrics\\_classification.py:1469: UndefinedMetricWarning: Precision and F-score are ill-defined and being set to 0.0 in labels with no predicted samples. Use `zero_division` parameter to control this behavior.\n",
      "  _warn_prf(average, modifier, msg_start, len(result))\n"
     ]
    }
   ],
   "source": [
    "from sklearn.metrics import accuracy_score, confusion_matrix, classification_report\n",
    "\n",
    "dtc_train = accuracy_score(y_train, dtc.predict(X_train))\n",
    "dtc_test = accuracy_score(y_test, y_pred)\n",
    "\n",
    "print(f\"Training accuracy of Decision Tree: {dtc_train}\")\n",
    "print(f\"Test accuracy of Decision Tree: {dtc_test}\")\n",
    "\n",
    "print(confusion_matrix(y_test, y_pred))\n",
    "print(classification_report(y_test, y_pred))"
   ]
  },
  {
   "cell_type": "markdown",
   "id": "b10237ba",
   "metadata": {},
   "source": [
    "**3. KNN**"
   ]
  },
  {
   "cell_type": "code",
   "execution_count": 49,
   "id": "ed090119",
   "metadata": {},
   "outputs": [],
   "source": [
    "from sklearn.neighbors import KNeighborsClassifier\n",
    "\n",
    "knn = KNeighborsClassifier(n_neighbors = 30)\n",
    "knn.fit(X_train, y_train)\n",
    "\n",
    "y_pred = knn.predict(X_test)"
   ]
  },
  {
   "cell_type": "code",
   "execution_count": 50,
   "id": "4fc8cb7a",
   "metadata": {},
   "outputs": [
    {
     "name": "stdout",
     "output_type": "stream",
     "text": [
      "Training accuracy of KNN: 0.9510666666666666\n",
      "Test accuracy of KNN: 0.9468\n",
      "[[2367    0]\n",
      " [ 133    0]]\n",
      "              precision    recall  f1-score   support\n",
      "\n",
      "           0       0.95      1.00      0.97      2367\n",
      "           1       0.00      0.00      0.00       133\n",
      "\n",
      "    accuracy                           0.95      2500\n",
      "   macro avg       0.47      0.50      0.49      2500\n",
      "weighted avg       0.90      0.95      0.92      2500\n",
      "\n"
     ]
    },
    {
     "name": "stderr",
     "output_type": "stream",
     "text": [
      "C:\\ProgramData\\anaconda3\\Lib\\site-packages\\sklearn\\metrics\\_classification.py:1469: UndefinedMetricWarning: Precision and F-score are ill-defined and being set to 0.0 in labels with no predicted samples. Use `zero_division` parameter to control this behavior.\n",
      "  _warn_prf(average, modifier, msg_start, len(result))\n",
      "C:\\ProgramData\\anaconda3\\Lib\\site-packages\\sklearn\\metrics\\_classification.py:1469: UndefinedMetricWarning: Precision and F-score are ill-defined and being set to 0.0 in labels with no predicted samples. Use `zero_division` parameter to control this behavior.\n",
      "  _warn_prf(average, modifier, msg_start, len(result))\n",
      "C:\\ProgramData\\anaconda3\\Lib\\site-packages\\sklearn\\metrics\\_classification.py:1469: UndefinedMetricWarning: Precision and F-score are ill-defined and being set to 0.0 in labels with no predicted samples. Use `zero_division` parameter to control this behavior.\n",
      "  _warn_prf(average, modifier, msg_start, len(result))\n"
     ]
    }
   ],
   "source": [
    "from sklearn.metrics import accuracy_score, confusion_matrix, classification_report\n",
    "\n",
    "knn_train = accuracy_score(y_train, knn.predict(X_train))\n",
    "knn_test = accuracy_score(y_test, y_pred)\n",
    "\n",
    "print(f\"Training accuracy of KNN: {knn_train}\")\n",
    "print(f\"Test accuracy of KNN: {knn_test}\")\n",
    "\n",
    "print(confusion_matrix(y_test, y_pred))\n",
    "print(classification_report(y_test, y_pred))"
   ]
  },
  {
   "cell_type": "markdown",
   "id": "9a599c4f",
   "metadata": {},
   "source": [
    "**4. Random Forest**"
   ]
  },
  {
   "cell_type": "code",
   "execution_count": 51,
   "id": "5b051b43",
   "metadata": {},
   "outputs": [],
   "source": [
    "from sklearn.ensemble import RandomForestClassifier\n",
    "\n",
    "rand_clf = RandomForestClassifier(criterion= 'entropy', max_depth= 10, max_features= 'sqrt', min_samples_leaf= 1, min_samples_split= 3, n_estimators= 140)\n",
    "rand_clf.fit(X_train, y_train)\n",
    "\n",
    "y_pred = rand_clf.predict(X_test)"
   ]
  },
  {
   "cell_type": "code",
   "execution_count": 52,
   "id": "df57b885",
   "metadata": {},
   "outputs": [
    {
     "name": "stdout",
     "output_type": "stream",
     "text": [
      "Training accuracy of Random Forest: 0.9510666666666666\n",
      "Test accuracy of Random Forest: 0.9468\n",
      "[[2367    0]\n",
      " [ 133    0]]\n",
      "              precision    recall  f1-score   support\n",
      "\n",
      "           0       0.95      1.00      0.97      2367\n",
      "           1       0.00      0.00      0.00       133\n",
      "\n",
      "    accuracy                           0.95      2500\n",
      "   macro avg       0.47      0.50      0.49      2500\n",
      "weighted avg       0.90      0.95      0.92      2500\n",
      "\n"
     ]
    },
    {
     "name": "stderr",
     "output_type": "stream",
     "text": [
      "C:\\ProgramData\\anaconda3\\Lib\\site-packages\\sklearn\\metrics\\_classification.py:1469: UndefinedMetricWarning: Precision and F-score are ill-defined and being set to 0.0 in labels with no predicted samples. Use `zero_division` parameter to control this behavior.\n",
      "  _warn_prf(average, modifier, msg_start, len(result))\n",
      "C:\\ProgramData\\anaconda3\\Lib\\site-packages\\sklearn\\metrics\\_classification.py:1469: UndefinedMetricWarning: Precision and F-score are ill-defined and being set to 0.0 in labels with no predicted samples. Use `zero_division` parameter to control this behavior.\n",
      "  _warn_prf(average, modifier, msg_start, len(result))\n",
      "C:\\ProgramData\\anaconda3\\Lib\\site-packages\\sklearn\\metrics\\_classification.py:1469: UndefinedMetricWarning: Precision and F-score are ill-defined and being set to 0.0 in labels with no predicted samples. Use `zero_division` parameter to control this behavior.\n",
      "  _warn_prf(average, modifier, msg_start, len(result))\n"
     ]
    }
   ],
   "source": [
    "from sklearn.metrics import accuracy_score, confusion_matrix, classification_report\n",
    "\n",
    "rand_clf_train = accuracy_score(y_train, rand_clf.predict(X_train))\n",
    "rand_clf_test = accuracy_score(y_test, y_pred)\n",
    "\n",
    "print(f\"Training accuracy of Random Forest: {rand_clf_train}\")\n",
    "print(f\"Test accuracy of Random Forest: {rand_clf_test}\")\n",
    "\n",
    "print(confusion_matrix(y_test, y_pred))\n",
    "print(classification_report(y_test, y_pred))"
   ]
  },
  {
   "cell_type": "markdown",
   "id": "84fe192c",
   "metadata": {},
   "source": [
    "**5. Gradient Boosting**"
   ]
  },
  {
   "cell_type": "code",
   "execution_count": 53,
   "id": "9d7e0bd5",
   "metadata": {},
   "outputs": [
    {
     "name": "stdout",
     "output_type": "stream",
     "text": [
      "Training Accuracy of Gradient Boosting Classifier: 0.9532\n",
      "Test Accuracy of Gradient Boosting Classifier: 0.942 \n",
      "\n",
      "Confusion Matrix :- \n",
      "[[2355   12]\n",
      " [ 133    0]]\n",
      "\n",
      "Classification Report :- \n",
      "               precision    recall  f1-score   support\n",
      "\n",
      "           0       0.95      0.99      0.97      2367\n",
      "           1       0.00      0.00      0.00       133\n",
      "\n",
      "    accuracy                           0.94      2500\n",
      "   macro avg       0.47      0.50      0.49      2500\n",
      "weighted avg       0.90      0.94      0.92      2500\n",
      "\n"
     ]
    }
   ],
   "source": [
    "from sklearn.ensemble import GradientBoostingClassifier\n",
    "\n",
    "gb = GradientBoostingClassifier()\n",
    "gb.fit(X_train, y_train)\n",
    "\n",
    "gb_acc = accuracy_score(y_test, gb.predict(X_test))\n",
    "\n",
    "print(f\"Training Accuracy of Gradient Boosting Classifier: {accuracy_score(y_train, gb.predict(X_train))}\")\n",
    "print(f\"Test Accuracy of Gradient Boosting Classifier: {gb_acc} \\n\")\n",
    "\n",
    "print(f\"Confusion Matrix :- \\n{confusion_matrix(y_test, gb.predict(X_test))}\\n\")\n",
    "print(f\"Classification Report :- \\n {classification_report(y_test, gb.predict(X_test))}\")"
   ]
  },
  {
   "cell_type": "markdown",
   "id": "ac99890b",
   "metadata": {},
   "source": [
    "**6. XGBoost**"
   ]
  },
  {
   "cell_type": "code",
   "execution_count": 55,
   "id": "d7064de8",
   "metadata": {},
   "outputs": [
    {
     "name": "stdout",
     "output_type": "stream",
     "text": [
      "Defaulting to user installation because normal site-packages is not writeable\n",
      "Collecting xgboost\n",
      "  Obtaining dependency information for xgboost from https://files.pythonhosted.org/packages/a2/48/d5da8591891327b0faf08179d420fba3893c6134bdd449497c5329e4cb01/xgboost-2.1.0-py3-none-win_amd64.whl.metadata\n",
      "  Downloading xgboost-2.1.0-py3-none-win_amd64.whl.metadata (2.1 kB)\n",
      "Requirement already satisfied: numpy in c:\\programdata\\anaconda3\\lib\\site-packages (from xgboost) (1.24.3)\n",
      "Requirement already satisfied: scipy in c:\\programdata\\anaconda3\\lib\\site-packages (from xgboost) (1.10.1)\n",
      "Downloading xgboost-2.1.0-py3-none-win_amd64.whl (124.9 MB)\n",
      "   ---------------------------------------- 0.0/124.9 MB ? eta -:--:--\n",
      "   ---------------------------------------- 0.8/124.9 MB 23.7 MB/s eta 0:00:06\n",
      "    --------------------------------------- 2.3/124.9 MB 29.1 MB/s eta 0:00:05\n",
      "   - -------------------------------------- 4.4/124.9 MB 30.8 MB/s eta 0:00:04\n",
      "   - -------------------------------------- 5.9/124.9 MB 34.0 MB/s eta 0:00:04\n",
      "   -- ------------------------------------- 7.2/124.9 MB 32.8 MB/s eta 0:00:04\n",
      "   -- ------------------------------------- 8.8/124.9 MB 35.2 MB/s eta 0:00:04\n",
      "   --- ------------------------------------ 10.6/124.9 MB 36.4 MB/s eta 0:00:04\n",
      "   ---- ----------------------------------- 12.6/124.9 MB 40.9 MB/s eta 0:00:03\n",
      "   ---- ----------------------------------- 14.6/124.9 MB 40.9 MB/s eta 0:00:03\n",
      "   ----- ---------------------------------- 16.3/124.9 MB 40.9 MB/s eta 0:00:03\n",
      "   ----- ---------------------------------- 18.4/124.9 MB 38.6 MB/s eta 0:00:03\n",
      "   ------ --------------------------------- 20.2/124.9 MB 38.6 MB/s eta 0:00:03\n",
      "   ------ --------------------------------- 21.6/124.9 MB 38.5 MB/s eta 0:00:03\n",
      "   ------- -------------------------------- 22.9/124.9 MB 36.4 MB/s eta 0:00:03\n",
      "   ------- -------------------------------- 24.6/124.9 MB 34.4 MB/s eta 0:00:03\n",
      "   -------- ------------------------------- 26.1/124.9 MB 34.4 MB/s eta 0:00:03\n",
      "   -------- ------------------------------- 26.9/124.9 MB 31.1 MB/s eta 0:00:04\n",
      "   --------- ------------------------------ 28.6/124.9 MB 29.7 MB/s eta 0:00:04\n",
      "   --------- ------------------------------ 30.4/124.9 MB 29.7 MB/s eta 0:00:04\n",
      "   ---------- ----------------------------- 32.0/124.9 MB 29.7 MB/s eta 0:00:04\n",
      "   ---------- ----------------------------- 33.6/124.9 MB 31.2 MB/s eta 0:00:03\n",
      "   ----------- ---------------------------- 35.3/124.9 MB 31.1 MB/s eta 0:00:03\n",
      "   ----------- ---------------------------- 37.2/124.9 MB 36.4 MB/s eta 0:00:03\n",
      "   ------------ --------------------------- 39.1/124.9 MB 36.4 MB/s eta 0:00:03\n",
      "   ------------- -------------------------- 41.2/124.9 MB 34.4 MB/s eta 0:00:03\n",
      "   ------------- -------------------------- 42.6/124.9 MB 34.4 MB/s eta 0:00:03\n",
      "   -------------- ------------------------- 44.6/124.9 MB 36.3 MB/s eta 0:00:03\n",
      "   -------------- ------------------------- 46.3/124.9 MB 36.4 MB/s eta 0:00:03\n",
      "   --------------- ------------------------ 47.8/124.9 MB 38.5 MB/s eta 0:00:03\n",
      "   --------------- ------------------------ 49.5/124.9 MB 38.5 MB/s eta 0:00:02\n",
      "   ---------------- ----------------------- 51.5/124.9 MB 36.4 MB/s eta 0:00:03\n",
      "   ----------------- ---------------------- 53.3/124.9 MB 36.4 MB/s eta 0:00:02\n",
      "   ----------------- ---------------------- 54.8/124.9 MB 36.4 MB/s eta 0:00:02\n",
      "   ------------------ --------------------- 56.7/124.9 MB 34.4 MB/s eta 0:00:02\n",
      "   ------------------ --------------------- 58.3/124.9 MB 36.3 MB/s eta 0:00:02\n",
      "   ------------------- -------------------- 60.3/124.9 MB 36.4 MB/s eta 0:00:02\n",
      "   ------------------- -------------------- 62.0/124.9 MB 34.4 MB/s eta 0:00:02\n",
      "   -------------------- ------------------- 63.4/124.9 MB 36.4 MB/s eta 0:00:02\n",
      "   -------------------- ------------------- 65.2/124.9 MB 38.5 MB/s eta 0:00:02\n",
      "   --------------------- ------------------ 66.6/124.9 MB 34.4 MB/s eta 0:00:02\n",
      "   --------------------- ------------------ 68.6/124.9 MB 36.4 MB/s eta 0:00:02\n",
      "   ---------------------- ----------------- 70.2/124.9 MB 34.4 MB/s eta 0:00:02\n",
      "   ----------------------- ---------------- 72.1/124.9 MB 36.3 MB/s eta 0:00:02\n",
      "   ----------------------- ---------------- 73.7/124.9 MB 36.4 MB/s eta 0:00:02\n",
      "   ------------------------ --------------- 75.5/124.9 MB 36.4 MB/s eta 0:00:02\n",
      "   ------------------------ --------------- 77.1/124.9 MB 36.4 MB/s eta 0:00:02\n",
      "   ------------------------- -------------- 78.5/124.9 MB 36.4 MB/s eta 0:00:02\n",
      "   ------------------------- -------------- 80.3/124.9 MB 34.4 MB/s eta 0:00:02\n",
      "   -------------------------- ------------- 81.7/124.9 MB 34.6 MB/s eta 0:00:02\n",
      "   -------------------------- ------------- 83.5/124.9 MB 34.4 MB/s eta 0:00:02\n",
      "   --------------------------- ------------ 84.9/124.9 MB 34.4 MB/s eta 0:00:02\n",
      "   --------------------------- ------------ 86.5/124.9 MB 32.8 MB/s eta 0:00:02\n",
      "   ---------------------------- ----------- 88.4/124.9 MB 32.7 MB/s eta 0:00:02\n",
      "   ---------------------------- ----------- 90.3/124.9 MB 36.4 MB/s eta 0:00:01\n",
      "   ----------------------------- ---------- 91.8/124.9 MB 34.4 MB/s eta 0:00:01\n",
      "   ----------------------------- ---------- 93.3/124.9 MB 34.4 MB/s eta 0:00:01\n",
      "   ------------------------------ --------- 95.3/124.9 MB 38.6 MB/s eta 0:00:01\n",
      "   ------------------------------ --------- 96.8/124.9 MB 36.4 MB/s eta 0:00:01\n",
      "   ------------------------------- -------- 98.0/124.9 MB 34.4 MB/s eta 0:00:01\n",
      "   ------------------------------- -------- 99.8/124.9 MB 34.4 MB/s eta 0:00:01\n",
      "   ------------------------------- ------- 101.1/124.9 MB 34.4 MB/s eta 0:00:01\n",
      "   -------------------------------- ------ 102.7/124.9 MB 32.8 MB/s eta 0:00:01\n",
      "   -------------------------------- ------ 104.2/124.9 MB 32.8 MB/s eta 0:00:01\n",
      "   --------------------------------- ----- 105.9/124.9 MB 32.8 MB/s eta 0:00:01\n",
      "   --------------------------------- ----- 107.8/124.9 MB 34.4 MB/s eta 0:00:01\n",
      "   ---------------------------------- ---- 109.5/124.9 MB 34.4 MB/s eta 0:00:01\n",
      "   ---------------------------------- ---- 110.9/124.9 MB 34.4 MB/s eta 0:00:01\n",
      "   ----------------------------------- --- 112.5/124.9 MB 34.4 MB/s eta 0:00:01\n",
      "   ----------------------------------- --- 114.2/124.9 MB 32.8 MB/s eta 0:00:01\n",
      "   ------------------------------------ -- 115.8/124.9 MB 36.4 MB/s eta 0:00:01\n",
      "   ------------------------------------ -- 117.3/124.9 MB 34.4 MB/s eta 0:00:01\n",
      "   ------------------------------------- - 119.1/124.9 MB 32.7 MB/s eta 0:00:01\n",
      "   ------------------------------------- - 120.7/124.9 MB 36.4 MB/s eta 0:00:01\n",
      "   --------------------------------------  122.1/124.9 MB 34.4 MB/s eta 0:00:01\n",
      "   --------------------------------------  123.6/124.9 MB 32.8 MB/s eta 0:00:01\n",
      "   --------------------------------------  124.9/124.9 MB 34.4 MB/s eta 0:00:01\n",
      "   --------------------------------------  124.9/124.9 MB 34.4 MB/s eta 0:00:01\n",
      "   --------------------------------------  124.9/124.9 MB 34.4 MB/s eta 0:00:01\n",
      "   --------------------------------------  124.9/124.9 MB 34.4 MB/s eta 0:00:01\n",
      "   --------------------------------------  124.9/124.9 MB 34.4 MB/s eta 0:00:01\n",
      "   --------------------------------------  124.9/124.9 MB 34.4 MB/s eta 0:00:01\n",
      "   --------------------------------------- 124.9/124.9 MB 14.9 MB/s eta 0:00:00\n",
      "Installing collected packages: xgboost\n",
      "Successfully installed xgboost-2.1.0\n",
      "Note: you may need to restart the kernel to use updated packages.\n"
     ]
    }
   ],
   "source": [
    "pip install xgboost"
   ]
  },
  {
   "cell_type": "code",
   "execution_count": 56,
   "id": "9b5b8bf7",
   "metadata": {},
   "outputs": [],
   "source": [
    "from xgboost import XGBClassifier"
   ]
  },
  {
   "cell_type": "code",
   "execution_count": 57,
   "id": "feca6d43",
   "metadata": {},
   "outputs": [],
   "source": [
    "xgb = XGBClassifier()\n",
    "xgb.fit(X_train, y_train)\n",
    "\n",
    "y_pred = xgb.predict(X_test)"
   ]
  },
  {
   "cell_type": "code",
   "execution_count": 58,
   "id": "54ff03ed",
   "metadata": {},
   "outputs": [
    {
     "name": "stdout",
     "output_type": "stream",
     "text": [
      "Training accuracy of XGBoost: 0.9908\n",
      "Test accuracy of XGBoost: 0.9468\n",
      "[[2367    0]\n",
      " [ 133    0]]\n",
      "              precision    recall  f1-score   support\n",
      "\n",
      "           0       0.95      1.00      0.97      2367\n",
      "           1       0.00      0.00      0.00       133\n",
      "\n",
      "    accuracy                           0.95      2500\n",
      "   macro avg       0.47      0.50      0.49      2500\n",
      "weighted avg       0.90      0.95      0.92      2500\n",
      "\n"
     ]
    },
    {
     "name": "stderr",
     "output_type": "stream",
     "text": [
      "C:\\ProgramData\\anaconda3\\Lib\\site-packages\\sklearn\\metrics\\_classification.py:1469: UndefinedMetricWarning: Precision and F-score are ill-defined and being set to 0.0 in labels with no predicted samples. Use `zero_division` parameter to control this behavior.\n",
      "  _warn_prf(average, modifier, msg_start, len(result))\n",
      "C:\\ProgramData\\anaconda3\\Lib\\site-packages\\sklearn\\metrics\\_classification.py:1469: UndefinedMetricWarning: Precision and F-score are ill-defined and being set to 0.0 in labels with no predicted samples. Use `zero_division` parameter to control this behavior.\n",
      "  _warn_prf(average, modifier, msg_start, len(result))\n",
      "C:\\ProgramData\\anaconda3\\Lib\\site-packages\\sklearn\\metrics\\_classification.py:1469: UndefinedMetricWarning: Precision and F-score are ill-defined and being set to 0.0 in labels with no predicted samples. Use `zero_division` parameter to control this behavior.\n",
      "  _warn_prf(average, modifier, msg_start, len(result))\n"
     ]
    }
   ],
   "source": [
    "xgb_train = accuracy_score(y_train, xgb.predict(X_train))\n",
    "xgb_test = accuracy_score(y_test, y_pred)\n",
    "\n",
    "print(f\"Training accuracy of XGBoost: {xgb_train}\")\n",
    "print(f\"Test accuracy of XGBoost: {xgb_test}\")\n",
    "\n",
    "print(confusion_matrix(y_test, y_pred))\n",
    "print(classification_report(y_test, y_pred))"
   ]
  },
  {
   "cell_type": "code",
   "execution_count": 59,
   "id": "a667a056",
   "metadata": {},
   "outputs": [
    {
     "name": "stdout",
     "output_type": "stream",
     "text": [
      "Fitting 5 folds for each of 512 candidates, totalling 2560 fits\n"
     ]
    },
    {
     "data": {
      "text/html": [
       "<style>#sk-container-id-2 {color: black;}#sk-container-id-2 pre{padding: 0;}#sk-container-id-2 div.sk-toggleable {background-color: white;}#sk-container-id-2 label.sk-toggleable__label {cursor: pointer;display: block;width: 100%;margin-bottom: 0;padding: 0.3em;box-sizing: border-box;text-align: center;}#sk-container-id-2 label.sk-toggleable__label-arrow:before {content: \"▸\";float: left;margin-right: 0.25em;color: #696969;}#sk-container-id-2 label.sk-toggleable__label-arrow:hover:before {color: black;}#sk-container-id-2 div.sk-estimator:hover label.sk-toggleable__label-arrow:before {color: black;}#sk-container-id-2 div.sk-toggleable__content {max-height: 0;max-width: 0;overflow: hidden;text-align: left;background-color: #f0f8ff;}#sk-container-id-2 div.sk-toggleable__content pre {margin: 0.2em;color: black;border-radius: 0.25em;background-color: #f0f8ff;}#sk-container-id-2 input.sk-toggleable__control:checked~div.sk-toggleable__content {max-height: 200px;max-width: 100%;overflow: auto;}#sk-container-id-2 input.sk-toggleable__control:checked~label.sk-toggleable__label-arrow:before {content: \"▾\";}#sk-container-id-2 div.sk-estimator input.sk-toggleable__control:checked~label.sk-toggleable__label {background-color: #d4ebff;}#sk-container-id-2 div.sk-label input.sk-toggleable__control:checked~label.sk-toggleable__label {background-color: #d4ebff;}#sk-container-id-2 input.sk-hidden--visually {border: 0;clip: rect(1px 1px 1px 1px);clip: rect(1px, 1px, 1px, 1px);height: 1px;margin: -1px;overflow: hidden;padding: 0;position: absolute;width: 1px;}#sk-container-id-2 div.sk-estimator {font-family: monospace;background-color: #f0f8ff;border: 1px dotted black;border-radius: 0.25em;box-sizing: border-box;margin-bottom: 0.5em;}#sk-container-id-2 div.sk-estimator:hover {background-color: #d4ebff;}#sk-container-id-2 div.sk-parallel-item::after {content: \"\";width: 100%;border-bottom: 1px solid gray;flex-grow: 1;}#sk-container-id-2 div.sk-label:hover label.sk-toggleable__label {background-color: #d4ebff;}#sk-container-id-2 div.sk-serial::before {content: \"\";position: absolute;border-left: 1px solid gray;box-sizing: border-box;top: 0;bottom: 0;left: 50%;z-index: 0;}#sk-container-id-2 div.sk-serial {display: flex;flex-direction: column;align-items: center;background-color: white;padding-right: 0.2em;padding-left: 0.2em;position: relative;}#sk-container-id-2 div.sk-item {position: relative;z-index: 1;}#sk-container-id-2 div.sk-parallel {display: flex;align-items: stretch;justify-content: center;background-color: white;position: relative;}#sk-container-id-2 div.sk-item::before, #sk-container-id-2 div.sk-parallel-item::before {content: \"\";position: absolute;border-left: 1px solid gray;box-sizing: border-box;top: 0;bottom: 0;left: 50%;z-index: -1;}#sk-container-id-2 div.sk-parallel-item {display: flex;flex-direction: column;z-index: 1;position: relative;background-color: white;}#sk-container-id-2 div.sk-parallel-item:first-child::after {align-self: flex-end;width: 50%;}#sk-container-id-2 div.sk-parallel-item:last-child::after {align-self: flex-start;width: 50%;}#sk-container-id-2 div.sk-parallel-item:only-child::after {width: 0;}#sk-container-id-2 div.sk-dashed-wrapped {border: 1px dashed gray;margin: 0 0.4em 0.5em 0.4em;box-sizing: border-box;padding-bottom: 0.4em;background-color: white;}#sk-container-id-2 div.sk-label label {font-family: monospace;font-weight: bold;display: inline-block;line-height: 1.2em;}#sk-container-id-2 div.sk-label-container {text-align: center;}#sk-container-id-2 div.sk-container {/* jupyter's `normalize.less` sets `[hidden] { display: none; }` but bootstrap.min.css set `[hidden] { display: none !important; }` so we also need the `!important` here to be able to override the default hidden behavior on the sphinx rendered scikit-learn.org. See: https://github.com/scikit-learn/scikit-learn/issues/21755 */display: inline-block !important;position: relative;}#sk-container-id-2 div.sk-text-repr-fallback {display: none;}</style><div id=\"sk-container-id-2\" class=\"sk-top-container\"><div class=\"sk-text-repr-fallback\"><pre>GridSearchCV(cv=5, estimator=DecisionTreeClassifier(), n_jobs=-1,\n",
       "             param_grid={&#x27;criterion&#x27;: [&#x27;gini&#x27;, &#x27;entropy&#x27;],\n",
       "                         &#x27;max_depth&#x27;: [3, 5, 7, 10],\n",
       "                         &#x27;min_samples_leaf&#x27;: range(2, 10),\n",
       "                         &#x27;min_samples_split&#x27;: range(2, 10)},\n",
       "             verbose=1)</pre><b>In a Jupyter environment, please rerun this cell to show the HTML representation or trust the notebook. <br />On GitHub, the HTML representation is unable to render, please try loading this page with nbviewer.org.</b></div><div class=\"sk-container\" hidden><div class=\"sk-item sk-dashed-wrapped\"><div class=\"sk-label-container\"><div class=\"sk-label sk-toggleable\"><input class=\"sk-toggleable__control sk-hidden--visually\" id=\"sk-estimator-id-4\" type=\"checkbox\" ><label for=\"sk-estimator-id-4\" class=\"sk-toggleable__label sk-toggleable__label-arrow\">GridSearchCV</label><div class=\"sk-toggleable__content\"><pre>GridSearchCV(cv=5, estimator=DecisionTreeClassifier(), n_jobs=-1,\n",
       "             param_grid={&#x27;criterion&#x27;: [&#x27;gini&#x27;, &#x27;entropy&#x27;],\n",
       "                         &#x27;max_depth&#x27;: [3, 5, 7, 10],\n",
       "                         &#x27;min_samples_leaf&#x27;: range(2, 10),\n",
       "                         &#x27;min_samples_split&#x27;: range(2, 10)},\n",
       "             verbose=1)</pre></div></div></div><div class=\"sk-parallel\"><div class=\"sk-parallel-item\"><div class=\"sk-item\"><div class=\"sk-label-container\"><div class=\"sk-label sk-toggleable\"><input class=\"sk-toggleable__control sk-hidden--visually\" id=\"sk-estimator-id-5\" type=\"checkbox\" ><label for=\"sk-estimator-id-5\" class=\"sk-toggleable__label sk-toggleable__label-arrow\">estimator: DecisionTreeClassifier</label><div class=\"sk-toggleable__content\"><pre>DecisionTreeClassifier()</pre></div></div></div><div class=\"sk-serial\"><div class=\"sk-item\"><div class=\"sk-estimator sk-toggleable\"><input class=\"sk-toggleable__control sk-hidden--visually\" id=\"sk-estimator-id-6\" type=\"checkbox\" ><label for=\"sk-estimator-id-6\" class=\"sk-toggleable__label sk-toggleable__label-arrow\">DecisionTreeClassifier</label><div class=\"sk-toggleable__content\"><pre>DecisionTreeClassifier()</pre></div></div></div></div></div></div></div></div></div></div>"
      ],
      "text/plain": [
       "GridSearchCV(cv=5, estimator=DecisionTreeClassifier(), n_jobs=-1,\n",
       "             param_grid={'criterion': ['gini', 'entropy'],\n",
       "                         'max_depth': [3, 5, 7, 10],\n",
       "                         'min_samples_leaf': range(2, 10),\n",
       "                         'min_samples_split': range(2, 10)},\n",
       "             verbose=1)"
      ]
     },
     "execution_count": 59,
     "metadata": {},
     "output_type": "execute_result"
    }
   ],
   "source": [
    "param_grid = {\"n_estimators\": [10, 50, 100, 130], \"criterion\": ['gini', 'entropy'],\n",
    "                               \"max_depth\": range(2, 10, 1)}\n",
    "\n",
    "grid = GridSearchCV(estimator=xgb, param_grid=param_grid, cv=5,  verbose=3,n_jobs=-1)\n",
    "grid_search.fit(X_train, y_train)"
   ]
  },
  {
   "cell_type": "code",
   "execution_count": 60,
   "id": "e86a6501",
   "metadata": {},
   "outputs": [],
   "source": [
    "# Check best estimator\n",
    "\n",
    "xgb = grid_search.best_estimator_\n",
    "\n",
    "y_pred = xgb.predict(X_test)"
   ]
  },
  {
   "cell_type": "code",
   "execution_count": 61,
   "id": "fa077830",
   "metadata": {},
   "outputs": [
    {
     "name": "stdout",
     "output_type": "stream",
     "text": [
      "Training accuracy of XGBoost: 0.9510666666666666\n",
      "Test accuracy of XGBoost: 0.9468\n",
      "[[2367    0]\n",
      " [ 133    0]]\n",
      "              precision    recall  f1-score   support\n",
      "\n",
      "           0       0.95      1.00      0.97      2367\n",
      "           1       0.00      0.00      0.00       133\n",
      "\n",
      "    accuracy                           0.95      2500\n",
      "   macro avg       0.47      0.50      0.49      2500\n",
      "weighted avg       0.90      0.95      0.92      2500\n",
      "\n"
     ]
    },
    {
     "name": "stderr",
     "output_type": "stream",
     "text": [
      "C:\\ProgramData\\anaconda3\\Lib\\site-packages\\sklearn\\metrics\\_classification.py:1469: UndefinedMetricWarning: Precision and F-score are ill-defined and being set to 0.0 in labels with no predicted samples. Use `zero_division` parameter to control this behavior.\n",
      "  _warn_prf(average, modifier, msg_start, len(result))\n",
      "C:\\ProgramData\\anaconda3\\Lib\\site-packages\\sklearn\\metrics\\_classification.py:1469: UndefinedMetricWarning: Precision and F-score are ill-defined and being set to 0.0 in labels with no predicted samples. Use `zero_division` parameter to control this behavior.\n",
      "  _warn_prf(average, modifier, msg_start, len(result))\n",
      "C:\\ProgramData\\anaconda3\\Lib\\site-packages\\sklearn\\metrics\\_classification.py:1469: UndefinedMetricWarning: Precision and F-score are ill-defined and being set to 0.0 in labels with no predicted samples. Use `zero_division` parameter to control this behavior.\n",
      "  _warn_prf(average, modifier, msg_start, len(result))\n"
     ]
    }
   ],
   "source": [
    "xgb_train = accuracy_score(y_train, xgb.predict(X_train))\n",
    "xgb_test = accuracy_score(y_test, y_pred)\n",
    "\n",
    "print(f\"Training accuracy of XGBoost: {xgb_train}\")\n",
    "print(f\"Test accuracy of XGBoost: {xgb_test}\")\n",
    "\n",
    "print(confusion_matrix(y_test, y_pred))\n",
    "print(classification_report(y_test, y_pred))"
   ]
  },
  {
   "cell_type": "code",
   "execution_count": null,
   "id": "f6d52389",
   "metadata": {},
   "outputs": [],
   "source": []
  }
 ],
 "metadata": {
  "kernelspec": {
   "display_name": "Python 3 (ipykernel)",
   "language": "python",
   "name": "python3"
  },
  "language_info": {
   "codemirror_mode": {
    "name": "ipython",
    "version": 3
   },
   "file_extension": ".py",
   "mimetype": "text/x-python",
   "name": "python",
   "nbconvert_exporter": "python",
   "pygments_lexer": "ipython3",
   "version": "3.11.4"
  }
 },
 "nbformat": 4,
 "nbformat_minor": 5
}
